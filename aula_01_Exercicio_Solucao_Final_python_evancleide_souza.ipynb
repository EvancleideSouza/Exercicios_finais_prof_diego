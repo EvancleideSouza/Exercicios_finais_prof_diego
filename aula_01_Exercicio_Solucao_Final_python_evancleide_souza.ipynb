{
 "cells": [
  {
   "cell_type": "markdown",
   "metadata": {},
   "source": [
    "\n",
    "### Linguagens de Programação para Ciência de Dados\n",
    "#### Python - Bem vindo ao Mundo Python\n",
    "\n",
    "Exercícios - Lista 01"
   ]
  },
  {
   "cell_type": "markdown",
   "metadata": {},
   "source": [
    "## Variáveis e Tipos\n"
   ]
  },
  {
   "cell_type": "markdown",
   "metadata": {},
   "source": [
    "## Exercício 1\n",
    "*Calculando o IMC*\n",
    "\n",
    "O Índice de Massa Corporal (IMC) é uma medida internacional usada para calcular se uma pessoa está em seu peso ideal.\n",
    "O cálculo do IMC é determinado pela divisão da massa do indivíduo em quilogramas pelo quadrado de sua altura em metros.\n",
    "\n",
    "\n",
    "\n",
    "$$IMC=\\frac{massa}{(altura * altura)}$$\n",
    "\n",
    "\n",
    "\n",
    "Escreva um programa que leia do usuário sua altura e peso e calcule seu IMC.\n"
   ]
  },
  {
   "cell_type": "code",
   "execution_count": 48,
   "metadata": {},
   "outputs": [
    {
     "name": "stdin",
     "output_type": "stream",
     "text": [
      "  Peso:  30\n",
      "Altura:  1\n"
     ]
    },
    {
     "name": "stdout",
     "output_type": "stream",
     "text": [
      "   IMC: 30.0\n",
      "Sobrepeso, pois IMC está entre 24.9 e 30\n"
     ]
    }
   ],
   "source": [
    "# TODO: Complete o Código Abaixo\n",
    "peso = input('  Peso: ')\n",
    "altura = input('Altura: ')\n",
    "\n",
    "peso= float(peso)\n",
    "altura = float(altura)\n",
    "\n",
    "imc= round((peso/(altura*altura)),2)\n",
    "\n",
    "print(\"   IMC:\", imc)\n",
    "\n",
    "if imc <=(18.5):\n",
    "    print (\"Estado de magreza, pois IMC está menor que 18.5\")\n",
    "elif imc>(18.5)and imc<= (24.9):\n",
    "    print(\"IMC normal, pois IMC está entre 18.5 e 24.9\")\n",
    "elif imc>(24.9)and imc<= (30):\n",
    "    print(\"Sobrepeso, pois IMC está entre 24.9 e 30\")\n",
    "elif imc >(30):\n",
    "    print(\"Obesidade, pois IMC está acima de 30\")\n"
   ]
  },
  {
   "cell_type": "markdown",
   "metadata": {},
   "source": [
    "## Operadores"
   ]
  },
  {
   "cell_type": "markdown",
   "metadata": {},
   "source": [
    "## Exercícios"
   ]
  },
  {
   "cell_type": "markdown",
   "metadata": {},
   "source": [
    "1. O que o código a seguir imprime?\n",
    "\n",
    "```python\n",
    "print(“*\\n**\\n***\\n****\\n*****”)\n",
    "```"
   ]
  },
  {
   "cell_type": "code",
   "execution_count": 19,
   "metadata": {},
   "outputs": [
    {
     "name": "stdout",
     "output_type": "stream",
     "text": [
      "Exercício 1 \n",
      "*\n",
      "**\n",
      "***\n",
      "****\n",
      "*****\n"
     ]
    }
   ],
   "source": [
    "print(\"Exercício 1 \")\n",
    "\n",
    "print(\"*\\n**\\n***\\n****\\n*****\")"
   ]
  },
  {
   "cell_type": "markdown",
   "metadata": {},
   "source": [
    "2. O que aparece na janela do console, quando cada uma das instruções abaixo são executadas, para: x = 2 e y = 3? Execute cada uma das linhas abaixos e, se necessário, faça os devidos ajustes no código.\n",
    "    1. *print(“x = ” + x);*\n",
    "    2. *print(“O valor de x + x é ” + (x + x));*\n",
    "    3. *print(“x = ”);*\n",
    "    4. *print((x + y) + “ = “ + (y + x));*\n"
   ]
  },
  {
   "cell_type": "code",
   "execution_count": 49,
   "metadata": {},
   "outputs": [
    {
     "name": "stdout",
     "output_type": "stream",
     "text": [
      "Exercício 2 \n",
      "1) X=  2.0\n",
      "2) O valor de x + x é 4.0\n",
      "3) x = \n",
      "4)(x + y) = 5.0\n"
     ]
    }
   ],
   "source": [
    "print(\"Exercício 2 \")\n",
    "x=float(2)\n",
    "y=float (3)\n",
    "\n",
    "print(\"1) X= \", x)\n",
    "\n",
    "print(\"2) O valor de x + x é\", (x + x))\n",
    "\n",
    "print(\"3) x = \", )\n",
    "\n",
    "print(\"4)(x + y) =\", (y + x))"
   ]
  },
  {
   "cell_type": "markdown",
   "metadata": {},
   "source": [
    "3. Escreva um programa que leia o nome, o sobrenome e o número de matrícula de um estudante. Em seguida, formate e imprima os dados lidos da seguinte forma: [matrícula] nome sobrenome."
   ]
  },
  {
   "cell_type": "code",
   "execution_count": 23,
   "metadata": {},
   "outputs": [
    {
     "name": "stdout",
     "output_type": "stream",
     "text": [
      "Exercício 3\n"
     ]
    },
    {
     "name": "stdin",
     "output_type": "stream",
     "text": [
      "  Nome:  Maria\n",
      "Sobrenome:  Barbosa\n",
      "Matrícula:  12456\n"
     ]
    },
    {
     "name": "stdout",
     "output_type": "stream",
     "text": [
      "[ 12456 ] : Maria   Barbosa\n"
     ]
    }
   ],
   "source": [
    "# TODO: Escreva seu código abaixo\n",
    "print(\"Exercício 3\")    \n",
    "nome = str(input('  Nome: '))\n",
    "sobrenome = str(input('Sobrenome: '))\n",
    "matricula = str(input('Matrícula: '))\n",
    "\n",
    "print(\"[\",matricula,\"]\",\":\", nome ,\" \", sobrenome )\n",
    "\n"
   ]
  },
  {
   "cell_type": "markdown",
   "metadata": {},
   "source": [
    "4. Escreva um programa que solicite do usuário dois números, e imprima o resultado da soma, subtração, multiplicação e divisão."
   ]
  },
  {
   "cell_type": "code",
   "execution_count": 13,
   "metadata": {},
   "outputs": [
    {
     "name": "stdout",
     "output_type": "stream",
     "text": [
      "Exercício 4\n"
     ]
    },
    {
     "name": "stdin",
     "output_type": "stream",
     "text": [
      "Digite o primeiro número:  5\n",
      "Digite o segundo número:  785.5698\n"
     ]
    },
    {
     "name": "stdout",
     "output_type": "stream",
     "text": [
      "Soma= 790.57\n",
      "Subtração= -780.57\n",
      "Produto= 3927.85\n",
      "Divisão= 0.01\n"
     ]
    }
   ],
   "source": [
    "print(\"Exercício 4\")\n",
    "\n",
    "num1 = float(input('Digite o primeiro número: '))\n",
    "num2 = float(input('Digite o segundo número: '))\n",
    "\n",
    "print(\"Soma= {:.2f}\".format((num1 + num2)))\n",
    "print(\"Subtração= {:.2f}\".format((num1 - num2)))\n",
    "print(\"Produto= {:.2f}\".format((num1 * num2)))\n",
    "print(\"Divisão= {:.2f}\".format((num1 / num2)))\n"
   ]
  },
  {
   "cell_type": "markdown",
   "metadata": {},
   "source": [
    "5. Escreva um programa que receba como entrada o raio de um círculo e imprima o diâmetro, a circunferência e a área. Para isso, utilize as fórmulas: diâmetro = 2r; circunferência = 2πr, área = πr²."
   ]
  },
  {
   "cell_type": "code",
   "execution_count": 16,
   "metadata": {},
   "outputs": [
    {
     "name": "stdout",
     "output_type": "stream",
     "text": [
      "Exercício 5\n"
     ]
    },
    {
     "name": "stdin",
     "output_type": "stream",
     "text": [
      "Digite o raio:  3.6584\n"
     ]
    },
    {
     "name": "stdout",
     "output_type": "stream",
     "text": [
      "Diâmetro= 7.32\n",
      "Circunferência= 22.99\n",
      "Área= 42.05\n"
     ]
    }
   ],
   "source": [
    "print(\"Exercício 5\")\n",
    "import math\n",
    "\n",
    "raio = float(input('Digite o raio: '))\n",
    "\n",
    "#print(\"Divisão= {:.2f}\".format((num1 / num2)))\n",
    "\n",
    "print(\"Diâmetro= {:.2f}\".format((2 * raio)))\n",
    "print(\"Circunferência= {:.2f}\".format((2 * raio *math.pi)))\n",
    "print(\"Área= {:.2f}\".format((raio**2)*math.pi))\n"
   ]
  },
  {
   "cell_type": "markdown",
   "metadata": {},
   "source": [
    "6. Escreva um programa que receba como entrada um número de 5 dígitos, separe o número em dígitos individuais e os imprima separados por 3 espaços cada um. Por exemplo, se o usuário digitar 42339, o programa deverá imprimir: 4    2    3    3.   Dica: utilize as operações de divisão e módulo para extrair cada dígito do número."
   ]
  },
  {
   "cell_type": "code",
   "execution_count": 22,
   "metadata": {},
   "outputs": [
    {
     "name": "stdout",
     "output_type": "stream",
     "text": [
      "Exercício 6\n"
     ]
    },
    {
     "name": "stdin",
     "output_type": "stream",
     "text": [
      "Digite um numero de 5 dígitos:  42339\n"
     ]
    },
    {
     "name": "stdout",
     "output_type": "stream",
     "text": [
      "Primeiro dígito: 4\n",
      "Segundo dígito: 2\n",
      "Terceiro dígito: 3\n",
      "Quarto dígito: 3\n",
      "Quinto dígito: 9\n",
      "O número separado por 3 espaços: 4     2     3     3     9\n"
     ]
    }
   ],
   "source": [
    "print(\"Exercício 6\")\n",
    "\n",
    "numero = int(input('Digite um numero de 5 dígitos: '))\n",
    "digito_05 = (numero%10)\n",
    "digito_04 = (numero%100)/10\n",
    "digito_03 = (numero%1000)/100\n",
    "digito_02 = (numero%10000)/1000\n",
    "digito_01 = (numero%100000)/10000\n",
    "\n",
    "print(\"Primeiro dígito:\", int(digito_01))\n",
    "print(\"Segundo dígito:\", int(digito_02))\n",
    "print(\"Terceiro dígito:\", int(digito_03))\n",
    "print(\"Quarto dígito:\", int(digito_04))\n",
    "print(\"Quinto dígito:\", int(digito_05))\n",
    "print(\"O número separado por 3 espaços:\", int(digito_01), \"   \", int(digito_02), \"   \",int(digito_03), \"   \",int(digito_04), \"   \",int(digito_05))\n",
    "\n"
   ]
  },
  {
   "cell_type": "markdown",
   "metadata": {},
   "source": [
    "#### Estruturas de Controle \n",
    "\n",
    "#### Estruturas de Seleção\n",
    "\n",
    "#### Estruturas de Repetição"
   ]
  },
  {
   "cell_type": "markdown",
   "metadata": {},
   "source": [
    "#### Técnicas de Looping"
   ]
  },
  {
   "cell_type": "markdown",
   "metadata": {},
   "source": [
    "#### Exercícios"
   ]
  },
  {
   "cell_type": "markdown",
   "metadata": {},
   "source": [
    "1. Escreva um programa que leia dois números inteiros que determine e verifique se o primeiro é um múltiplo do segundo. Por exemplo: se o usuário digitar 15 e 3, o primeiro número será múltiplo do segundo; se o usuário digitar 2 e 4, o primeiro número não será múltiplo do segundo. Dica: use o operador módulo para obter o resto da divisão."
   ]
  },
  {
   "cell_type": "code",
   "execution_count": 53,
   "metadata": {},
   "outputs": [
    {
     "name": "stdout",
     "output_type": "stream",
     "text": [
      "Exercício 1\n"
     ]
    },
    {
     "name": "stdin",
     "output_type": "stream",
     "text": [
      "Digite o primeiro numero:  81\n",
      "Digite o segundo numero:  9\n"
     ]
    },
    {
     "name": "stdout",
     "output_type": "stream",
     "text": [
      "o número  81 é múltiplo de  9\n"
     ]
    }
   ],
   "source": [
    "print(\"Exercício 1\")\n",
    "\n",
    "num1 = int(input(\"Digite o primeiro numero: \"))\n",
    "num2 = int(input(\"Digite o segundo numero: \"))\n",
    "\n",
    "resto= int((num1%num2))\n",
    "\n",
    "if (resto==0):\n",
    "    print ('o número ', num1, 'é múltiplo de ', num2)\n",
    "else:\n",
    "    print ('o número ', num1, 'não é múltiplo de ', num2)\n"
   ]
  },
  {
   "cell_type": "markdown",
   "metadata": {},
   "source": [
    "2. Escreva um programa que calcule o quadrado e o cubo dos números de 0 a 10, e imprima os valores em forma de tabela. Número | Quadrado | Cubo"
   ]
  },
  {
   "cell_type": "code",
   "execution_count": 53,
   "metadata": {},
   "outputs": [
    {
     "name": "stdout",
     "output_type": "stream",
     "text": [
      "Número   |  Quadrado |   Cubo\n",
      "\n",
      " 0       | 0         |  0\n",
      "\n",
      " 1       | 1         |  1\n",
      "\n",
      " 2       | 4         |  8\n",
      "\n",
      " 3       | 9         |  27\n",
      "\n",
      " 4       | 16         |  64\n",
      "\n",
      " 5       | 25         |  125\n",
      "\n",
      " 6       | 36         |  216\n",
      "\n",
      " 7       | 49         |  343\n",
      "\n",
      " 8       | 64         |  512\n",
      "\n",
      " 9       | 81         |  729\n",
      "\n",
      " 10       | 100         |  1000\n"
     ]
    }
   ],
   "source": [
    "print (\"Número   |  Quadrado |   Cubo\")\n",
    "\n",
    "for i in range(0, 11):\n",
    "    nq=i**2\n",
    "    nc=i**3\n",
    "        \n",
    "    print ('\\n',i,'      |',nq,   '        | ', nc)\n",
    "       "
   ]
  },
  {
   "cell_type": "markdown",
   "metadata": {},
   "source": [
    "3. Escreva um programa que receba dois números inteiros como entrada e verifica qual deles é o maior."
   ]
  },
  {
   "cell_type": "code",
   "execution_count": 55,
   "metadata": {},
   "outputs": [
    {
     "name": "stdout",
     "output_type": "stream",
     "text": [
      "Exercíco 3\n"
     ]
    },
    {
     "name": "stdin",
     "output_type": "stream",
     "text": [
      "digite o primeiro número:  5\n",
      "digite o segundo número:  1\n"
     ]
    },
    {
     "name": "stdout",
     "output_type": "stream",
     "text": [
      "O número maior é  5\n"
     ]
    }
   ],
   "source": [
    "print (\"Exercíco 3\")\n",
    "\n",
    "n1 = int(input(\"digite o primeiro número: \"))\n",
    "n2 = int(input(\"digite o segundo número: \"))\n",
    "\n",
    "if n1>n2:\n",
    "    print ('O número maior é ', n1)\n",
    "else:\n",
    "    print ('O número maior é ', n2)\n"
   ]
  },
  {
   "cell_type": "markdown",
   "metadata": {},
   "source": [
    "4. Escreva um programa que leia apenas uma letra do alfabeto como entrada e classifique-a como vogal ou consoante. Seu programa deverá aceitar como entrada apenas um caractere, ou seja, se o usuário digitar dois ou mais caracteres, o sistema deverá informar ao usuário a entrada rejeitada."
   ]
  },
  {
   "cell_type": "code",
   "execution_count": 65,
   "metadata": {},
   "outputs": [
    {
     "name": "stdin",
     "output_type": "stream",
     "text": [
      "Digite o caracter:  k\n"
     ]
    },
    {
     "name": "stdout",
     "output_type": "stream",
     "text": [
      "O caracter digitado se refere a consoante\n"
     ]
    }
   ],
   "source": [
    "# print (\"Exercício 4\")\n",
    "\n",
    "letra= str(input(\"Digite o caracter: \"))\n",
    "if len(letra)>1:\n",
    "    print (\"Entrada rejeitada por que digitou\",len(letra), \"caracteres. Digite somente um caracter.\")\n",
    "\n",
    "elif letra in \"aeiou\":\n",
    "    print (\"O caracter digitado se refere a vogal\")\n",
    "elif letra in \"bcdfghjklmnpqrstvxywz\":\n",
    "    print (\"O caracter digitado se refere a consoante\")\n",
    "else:\n",
    "    print (letra,\" não é vogal, nem consoante.\")\n"
   ]
  },
  {
   "cell_type": "markdown",
   "metadata": {},
   "source": [
    "#### Funções\n",
    "#### Declaração de Argumentos\n",
    "#### Passagem por Valor ou Por Referência?"
   ]
  },
  {
   "cell_type": "markdown",
   "metadata": {},
   "source": [
    "#### Exercícios"
   ]
  },
  {
   "cell_type": "markdown",
   "metadata": {},
   "source": [
    "1. Uma empresa quer transmitir dados pelo telefone, mas está preocupada com a interceptação telefônica. Todos os seus dados são transmitidos  como inteiros de quatro dígitos. Ela pediu para que você escreva um programa que criptografe seus dados, para que eles possam ser transmitidos com mais segurança. Seu aplicativo deve ler um inteiro de quatro dígitos fornecidos pelo usuário e criptografá-lo da seguinte forma: substitua cada dígitos por (a soma desse dígitos mais 7) módulo 10. Em seguida, troque o primeiro dígito pelo terceiro e troque o segundo dígito pelo quarto e imprima o inteiro criptografado."
   ]
  },
  {
   "cell_type": "code",
   "execution_count": 5,
   "metadata": {},
   "outputs": [
    {
     "name": "stdout",
     "output_type": "stream",
     "text": [
      "Digite quatro números:1234\n",
      "O dado criptografado é:0189\n"
     ]
    }
   ],
   "source": [
    "#Função\n",
    "def funcripto(x):\n",
    "    n1 = int((num%10000)/1000)\n",
    "    n2 = int((num%1000)/100)\n",
    "    n3 = int((num%100)/10)\n",
    "    n4 = int((num%10)/1)\n",
    "    cn1 = (n1+7)%10\n",
    "    cn2 = (n2+7)%10\n",
    "    cn3 = (n3+7)%10\n",
    "    cn4 = (n4+7)%10\n",
    "    print('O dado criptografado é:{0:d}{1:d}{2:d}{3:d}'.format(cn3,cn4,cn1,cn2))\n",
    "    \n",
    "    \n",
    "#capiturando os dados.\n",
    "num=int(input(\"Digite quatro números:\"))\n",
    "\n",
    "#função para criptografar os dados\n",
    "funcripto(num)"
   ]
  },
  {
   "cell_type": "markdown",
   "metadata": {},
   "source": [
    "2. Implemente a função par que retorna verdadeiro se um número inteiro passado como parâmetro for par ou falso caso ele seja ímpar. Teste seu programa chamando a função para verificar os números de 0 à 10."
   ]
  },
  {
   "cell_type": "code",
   "execution_count": 6,
   "metadata": {},
   "outputs": [
    {
     "name": "stdout",
     "output_type": "stream",
     "text": [
      "Exercício 2\n",
      "Digite o número:54\n",
      "O número 54  é par.\n",
      "\n",
      "\n",
      "Verificando os números de 0 a 10\n",
      "O número 0  é par.\n",
      "O número 1  é ímpar.\n",
      "O número 2  é par.\n",
      "O número 3  é ímpar.\n",
      "O número 4  é par.\n",
      "O número 5  é ímpar.\n",
      "O número 6  é par.\n",
      "O número 7  é ímpar.\n",
      "O número 8  é par.\n",
      "O número 9  é ímpar.\n",
      "O número 10  é par.\n"
     ]
    }
   ],
   "source": [
    "#Exercício 2 \n",
    "print (\"Exercício 2\")\n",
    "\n",
    "def funcpar (x):\n",
    "    modulo = (x%2)\n",
    "    if modulo == 0:\n",
    "        print (\"O número\",x,\" é par.\")\n",
    "    else:\n",
    "        print (\"O número\",x,\" é ímpar.\")\n",
    "    return modulo\n",
    "    \n",
    "num = int(input(\"Digite o número:\"))\n",
    "resultado = funcpar (num)\n",
    "\n",
    "print('\\n')\n",
    "#Verificando se os numeros de 0 a 10.\n",
    "print(\"Verificando os números de 0 a 10\")\n",
    "for z in range(11):\n",
    "    funcpar (z)\n"
   ]
  },
  {
   "cell_type": "markdown",
   "metadata": {},
   "source": [
    "3. Escreva um programa que leia 3 números inteiros referente ao comprimento dos lados de um triângulo e classifique como: triângulo equilátero, isósceles ou escaleno."
   ]
  },
  {
   "cell_type": "code",
   "execution_count": 6,
   "metadata": {},
   "outputs": [
    {
     "name": "stdout",
     "output_type": "stream",
     "text": [
      "Exercício 3\n"
     ]
    },
    {
     "name": "stdin",
     "output_type": "stream",
     "text": [
      "Digite o primeiro lado: 5\n",
      "Digite o segundo lado: 5\n",
      "Digite o terceiro lado: 5\n"
     ]
    },
    {
     "name": "stdout",
     "output_type": "stream",
     "text": [
      "Triângulo Equilátero\n"
     ]
    }
   ],
   "source": [
    "#Exercício 3\n",
    "print (\"Exercício 3\")\n",
    "def functriangulo (x1,x2,x3): \n",
    "  if x1 + x2 > x3: \n",
    "    if x1 == x2 and x1 == x3: \n",
    "        print (\"Triângulo Equilátero\") \n",
    "    elif x1 == x2 or x2 == x3 or x1 == x3: \n",
    "        print (\"Triângulo Isósceles\") \n",
    "    elif x1 != x2 and x3 or x2 != x1 and x3 or x1 != x3: \n",
    "        print (\"Triângulo Escaleno\") \n",
    "  else: \n",
    "    print (\"É impossivel ser um triângulo\") # qdo dois primeiros lados forem menores que o terceiro \n",
    "\n",
    "  #return resposta \n",
    "\n",
    "l1=int(input(\"Digite o primeiro lado:\")) \n",
    "l2=int(input(\"Digite o segundo lado:\")) \n",
    "l3=int(input(\"Digite o terceiro lado:\")) \n",
    "resultado=functriangulo(l1,l2,l3) \n"
   ]
  },
  {
   "cell_type": "markdown",
   "metadata": {},
   "source": [
    "4. Escreva um programa que aceita um número como entrada e insere hífens (-) entre dois números pares. Por exemplo, se receber o número 02368859 como entrada, a saída do programa deverá ser: 0-236-8-859."
   ]
  },
  {
   "cell_type": "code",
   "execution_count": 119,
   "metadata": {},
   "outputs": [
    {
     "name": "stdout",
     "output_type": "stream",
     "text": [
      "Exercício 4\n"
     ]
    },
    {
     "name": "stdin",
     "output_type": "stream",
     "text": [
      "Digite números: 02368859\n"
     ]
    },
    {
     "name": "stdout",
     "output_type": "stream",
     "text": [
      "0-236-8-859\n"
     ]
    }
   ],
   "source": [
    "#Exercício 4\n",
    "print (\"Exercício 4\")\n",
    "def func_separa_par(num):\n",
    "    saida = ''\n",
    "    par = '02468'\n",
    "    \n",
    "    for x in range(len(num)-1):\n",
    "        saida=saida+ num[x]\n",
    "        if num[x] in par and num[x+1] in par:\n",
    "            saida=saida+ '-'\n",
    "    saida=saida+ num[-1]\n",
    "    print(saida)\n",
    "\n",
    "num = input(\"Digite números:\")\n",
    "func_separa_par(num)\n"
   ]
  },
  {
   "cell_type": "markdown",
   "metadata": {},
   "source": [
    "5. Escreva um programa que encontre o item mais frequente de um vetor. Exemplo: [2, 7, 7, 7, ‘#’, ‘#’, ‘#’, ‘@’, 3, ‘#’, 6]  // Saída: # aparece 4 vezes"
   ]
  },
  {
   "cell_type": "code",
   "execution_count": 133,
   "metadata": {},
   "outputs": [
    {
     "name": "stdout",
     "output_type": "stream",
     "text": [
      "Exercício 5\n"
     ]
    },
    {
     "name": "stdin",
     "output_type": "stream",
     "text": [
      "Digite o conjunto de caracteres: 54555555555\n"
     ]
    },
    {
     "name": "stdout",
     "output_type": "stream",
     "text": [
      "O caracter 5 apareceu 10 vezes na frase.\n"
     ]
    }
   ],
   "source": [
    "#Exercício 5\n",
    "print (\"Exercício 5\")\n",
    "\n",
    "from collections import Counter\n",
    "\n",
    "def conta_caracteres(texto):\n",
    "    texto = texto.replace(' ','')\n",
    "    count = Counter(texto)\n",
    "    mais_freq = list(count.most_common(1))\n",
    "    print(\"O caracter %s apareceu %s vezes na frase.\" %mais_freq[0])\n",
    "    \n",
    "texto = input(\"Digite o conjunto de caracteres:\")\n",
    "conta_caracteres(texto)\n",
    "\n",
    "\n"
   ]
  },
  {
   "cell_type": "markdown",
   "metadata": {},
   "source": [
    "6. Um número de Armstrong de 3 dígitos é um inteiro pelo qual a soma dos cubos dos seus dígitos é igual ao seu número. Por exemplo: o número inteiro 371 é um número de Armstrong, porque 3³ + 7³ + 1³ = 371. Escreva um programa que verifique se um número de 3 dígitos fornecido como entrada é um número de Armstrong.\n",
    "Exemplos: 1, 153, 370, 371, 407"
   ]
  },
  {
   "cell_type": "code",
   "execution_count": 15,
   "metadata": {},
   "outputs": [
    {
     "name": "stdout",
     "output_type": "stream",
     "text": [
      "Exercício 6\n"
     ]
    },
    {
     "name": "stdin",
     "output_type": "stream",
     "text": [
      "Digite um número 371\n"
     ]
    },
    {
     "name": "stdout",
     "output_type": "stream",
     "text": [
      "371 é um número Armstrong\n"
     ]
    }
   ],
   "source": [
    "#Exercício 6\n",
    " \n",
    "print (\"Exercício 6\")\n",
    "\n",
    "def func_armstrong(x):\n",
    "    temp=x\n",
    "    soma=0\n",
    "    \n",
    "    while temp > 0:\n",
    "        digito = temp % 10\n",
    "        soma =soma+ (digito ** 3)\n",
    "        temp = temp//10\n",
    "    \n",
    "    if x == soma:\n",
    "        print(x,\"é um número Armstrong\")\n",
    "    else:\n",
    "        print(x,\"não é um número Armstrong\")\n",
    "    \n",
    "num=int(input(\"Digite um número\"))\n",
    "resultado = func_armstrong(num)\n"
   ]
  },
  {
   "cell_type": "markdown",
   "metadata": {},
   "source": [
    "7. Escreva uma função que receba uma string e conte o número de vogais dentro dela, por exemplo: entrada: ‘Ciência de Dados’, saída: 7 vogais"
   ]
  },
  {
   "cell_type": "code",
   "execution_count": 6,
   "metadata": {},
   "outputs": [
    {
     "name": "stdout",
     "output_type": "stream",
     "text": [
      "Exercício 7\n"
     ]
    },
    {
     "name": "stdin",
     "output_type": "stream",
     "text": [
      "Digite uma palavra CIÊNCIA DE DADOS\n"
     ]
    },
    {
     "name": "stdout",
     "output_type": "stream",
     "text": [
      "O total de vogais é:  7\n"
     ]
    }
   ],
   "source": [
    "#Exercício 7\n",
    "print (\"Exercício 7\")\n",
    "def conta_vogal(x):\n",
    "    string=x\n",
    "    total=0\n",
    "    soma_vogal={}\n",
    "    vogal='aeiouàáâãéêíóôõúAEIOUÀÁÂÃÉÊÍÓÔÕÚ'\n",
    "    \n",
    "    for i in vogal:\n",
    "        if i in string:\n",
    "            soma_vogal[i]=string.count(i)\n",
    "        total= total+string.count(i)\n",
    "        \n",
    "    #print (\"total de cada vogal: \", soma_vogal)\n",
    "    print (\"O total de vogais é: \",total)\n",
    "    return soma_vogal\n",
    "\n",
    "digito=str(input(\"Digite uma palavra\"))\n",
    "resultado = conta_vogal(digito)\n"
   ]
  },
  {
   "cell_type": "markdown",
   "metadata": {},
   "source": [
    "8. Implemente em Python o algoritmo de Busca Binária"
   ]
  },
  {
   "cell_type": "code",
   "execution_count": 135,
   "metadata": {},
   "outputs": [
    {
     "name": "stdout",
     "output_type": "stream",
     "text": [
      "Exercício 8\n"
     ]
    },
    {
     "name": "stdin",
     "output_type": "stream",
     "text": [
      "Informe o número da busca binaria: 456\n"
     ]
    },
    {
     "name": "stdout",
     "output_type": "stream",
     "text": [
      "O número está na posição 10.\n"
     ]
    }
   ],
   "source": [
    "#Exercício 8\n",
    "print (\"Exercício 8\")\n",
    "\n",
    "from random import*\n",
    "\n",
    "def busc_bin(lista,x):\n",
    "    pri = 0\n",
    "    ult = len(lista)\n",
    "    \n",
    "    while pri <= ult:\n",
    "        meio = (pri+ult)//2\n",
    "        if lista[meio] == x:\n",
    "            return meio\n",
    "        else:\n",
    "            if x < lista[meio]:\n",
    "                ult = meio -1\n",
    "            else:\n",
    "                pri = meio +1\n",
    "    else:\n",
    "        print(\"O número não existe na lista!\")\n",
    "        \n",
    "x = int(input(\"Informe o número da busca binaria:\"))\n",
    "lista = [1,2,3,4,56,67,80,90,101,234,456,678,908]\n",
    "\n",
    "resul = busc_bin(lista,x)\n",
    "if resul != None:\n",
    "    print(\"O número está na posição %d.\"%resul)\n",
    "\n"
   ]
  },
  {
   "cell_type": "markdown",
   "metadata": {},
   "source": [
    "9. Escreva uma função que receba algum valor como parâmetro e retorne seu tipo"
   ]
  },
  {
   "cell_type": "code",
   "execution_count": 7,
   "metadata": {},
   "outputs": [
    {
     "name": "stdout",
     "output_type": "stream",
     "text": [
      "Exercício 9\n"
     ]
    },
    {
     "data": {
      "text/plain": [
       "list"
      ]
     },
     "execution_count": 7,
     "metadata": {},
     "output_type": "execute_result"
    }
   ],
   "source": [
    "#Exercício 9\n",
    "print (\"Exercício 9\")\n",
    "par = []\n",
    "\n",
    "def tipo(parametro):\n",
    "    return type(parametro)\n",
    "\n",
    "tipo(par)\n"
   ]
  },
  {
   "cell_type": "markdown",
   "metadata": {},
   "source": [
    "10. Escreva uma função que receba um lista numérica como parâmetro e retorne os segundos maiores e menores números da sequência, por exemplo: entrada [1, 2, 3, 4, 5, 6, 7, 8, 9], saída [2, 8]."
   ]
  },
  {
   "cell_type": "code",
   "execution_count": 7,
   "metadata": {},
   "outputs": [
    {
     "name": "stdout",
     "output_type": "stream",
     "text": [
      "Exercício 10\n"
     ]
    },
    {
     "name": "stdin",
     "output_type": "stream",
     "text": [
      "informe quantos numeros vai digitar:  5\n",
      "Digite o número:  6\n",
      "Digite o número:  8\n",
      "Digite o número:  7\n",
      "Digite o número:  2\n",
      "Digite o número:  6\n"
     ]
    },
    {
     "name": "stdout",
     "output_type": "stream",
     "text": [
      "Lista digitada [2, 6, 6, 7, 8]\n",
      "O segundo menor número é: 6\n",
      "O segundo maior número é: 7\n",
      "O maior número é:  8\n",
      "O menor número é:  2\n"
     ]
    }
   ],
   "source": [
    "# Exercício 10\n",
    "print (\"Exercício 10\")\n",
    "\n",
    "def func_segundo_maior_menor(x):\n",
    "    lista = []\n",
    "    sequencia=x\n",
    "    total_list=0\n",
    "    for n in range(0,int(x)):\n",
    "        lista.append(int(input('Digite o número: ')))\n",
    "        total_list=total_list+1        \n",
    "    tamanho=len(lista)\n",
    "    ordena=sorted(lista)\n",
    "    print(\"Lista digitada\",ordena)\n",
    "    print(\"O segundo menor número é:\",(ordena[1]))\n",
    "    print(\"O segundo maior número é:\",(ordena[tamanho-2]))\n",
    "    print ('O maior número é: ', max(lista))\n",
    "    print ('O menor número é: ', min(lista))\n",
    "\n",
    "num = input('informe quantos numeros vai digitar: ')\n",
    "resposta=func_segundo_maior_menor(num)\n"
   ]
  },
  {
   "cell_type": "markdown",
   "metadata": {},
   "source": [
    "11.  Escreva uma função que receba um número inteiro como entrada (px.: 32243) e retorne o número invertido (px.: 34223)."
   ]
  },
  {
   "cell_type": "code",
   "execution_count": 8,
   "metadata": {},
   "outputs": [
    {
     "name": "stdout",
     "output_type": "stream",
     "text": [
      "Exercício 10\n"
     ]
    },
    {
     "name": "stdin",
     "output_type": "stream",
     "text": [
      "digite o número 35485485\n"
     ]
    },
    {
     "name": "stdout",
     "output_type": "stream",
     "text": [
      "O número invertido é: 58458453\n"
     ]
    }
   ],
   "source": [
    "#Exercício 11\n",
    "print (\"Exercício 10\")\n",
    "def func_inverte_num(x):\n",
    "    num_invertido=int(str(x)[::-1])\n",
    "    print (\"O número invertido é:\", num_invertido)\n",
    "\n",
    "num=int(input(\"digite o número\"))\n",
    "retorno=func_inverte_num(num)"
   ]
  }
 ],
 "metadata": {
  "kernelspec": {
   "display_name": "Python 3",
   "language": "python",
   "name": "python3"
  },
  "language_info": {
   "codemirror_mode": {
    "name": "ipython",
    "version": 3
   },
   "file_extension": ".py",
   "mimetype": "text/x-python",
   "name": "python",
   "nbconvert_exporter": "python",
   "pygments_lexer": "ipython3",
   "version": "3.7.3"
  }
 },
 "nbformat": 4,
 "nbformat_minor": 2
}
