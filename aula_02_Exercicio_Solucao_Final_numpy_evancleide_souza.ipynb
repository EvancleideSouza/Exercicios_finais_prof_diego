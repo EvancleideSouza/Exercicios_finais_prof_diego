{
 "cells": [
  {
   "cell_type": "markdown",
   "metadata": {},
   "source": [
    "### Linguagens de Programação para Ciência de Dados\n",
    "#### NumPy\n",
    "\n",
    "Exercícios - Lista 02"
   ]
  },
  {
   "cell_type": "markdown",
   "metadata": {},
   "source": [
    "Exercício 8: Usando NumPy, importe o dataset iris mantendo o seu conteúdo intacto."
   ]
  },
  {
   "cell_type": "code",
   "execution_count": 43,
   "metadata": {},
   "outputs": [
    {
     "name": "stdout",
     "output_type": "stream",
     "text": [
      "[5.1 4.9 4.7 4.6 5.  5.4 4.6 5.  4.4 4.9 5.4 4.8 4.8 4.3 5.8 5.7 5.4 5.1\n",
      " 5.7 5.1 5.4 5.1 4.6 5.1 4.8 5.  5.  5.2 5.2 4.7 4.8 5.4 5.2 5.5 4.9 5.\n",
      " 5.5 4.9 4.4 5.1 5.  4.5 4.4 5.  5.1 4.8 5.1 4.6 5.3 5.  7.  6.4 6.9 5.5\n",
      " 6.5 5.7 6.3 4.9 6.6 5.2 5.  5.9 6.  6.1 5.6 6.7 5.6 5.8 6.2 5.6 5.9 6.1\n",
      " 6.3 6.1 6.4 6.6 6.8 6.7 6.  5.7 5.5 5.5 5.8 6.  5.4 6.  6.7 6.3 5.6 5.5\n",
      " 5.5 6.1 5.8 5.  5.6 5.7 5.7 6.2 5.1 5.7 6.3 5.8 7.1 6.3 6.5 7.6 4.9 7.3\n",
      " 6.7 7.2 6.5 6.4 6.8 5.7 5.8 6.4 6.5 7.7 7.7 6.  6.9 5.6 7.7 6.3 6.7 7.2\n",
      " 6.2 6.1 6.4 7.2 7.4 7.9 6.4 6.3 6.1 7.7 6.3 6.4 6.  6.9 6.7 6.9 5.8 6.8\n",
      " 6.7 6.7 6.3 6.5 6.2 5.9]\n"
     ]
    }
   ],
   "source": [
    "import numpy as np  # Importa a biblioteca NumPy para seu projeto\n",
    "\n",
    "\n",
    "iris_dataset_url = 'https://archive.ics.uci.edu/ml/machine-learning-databases/iris/iris.data'\n",
    "colunas = ('sepallength', 'sepalwidth', 'petallength', 'petalwidth', 'species')\n",
    "\n",
    "iris = np.genfromtxt(iris_dataset_url, delimiter=',', dtype='object', encoding='ascii')\n",
    "\n",
    "#Se digitar somente print iris, vai imprimir toda a matriz\n",
    "\n",
    "#iris[:2,4] # vai trazer 2 registros da coluna 4\n",
    "\n",
    "#iris [:3] #imprime somente as 3 primeiras linhas\n",
    "\n",
    "sepallength=iris[:,0].astype(float)\n",
    "print(sepallength)\n",
    "\n",
    "\n",
    "\n"
   ]
  },
  {
   "cell_type": "markdown",
   "metadata": {},
   "source": [
    "Exercicio 9: Extraia a coluna species do dataset importado na questão anterior para um vetor unidimensional."
   ]
  },
  {
   "cell_type": "code",
   "execution_count": 44,
   "metadata": {},
   "outputs": [
    {
     "name": "stdout",
     "output_type": "stream",
     "text": [
      "['Iris-setosa' 'Iris-setosa' 'Iris-setosa' 'Iris-setosa' 'Iris-setosa'\n",
      " 'Iris-setosa' 'Iris-setosa' 'Iris-setosa' 'Iris-setosa' 'Iris-setosa'\n",
      " 'Iris-setosa' 'Iris-setosa' 'Iris-setosa' 'Iris-setosa' 'Iris-setosa'\n",
      " 'Iris-setosa' 'Iris-setosa' 'Iris-setosa' 'Iris-setosa' 'Iris-setosa'\n",
      " 'Iris-setosa' 'Iris-setosa' 'Iris-setosa' 'Iris-setosa' 'Iris-setosa'\n",
      " 'Iris-setosa' 'Iris-setosa' 'Iris-setosa' 'Iris-setosa' 'Iris-setosa'\n",
      " 'Iris-setosa' 'Iris-setosa' 'Iris-setosa' 'Iris-setosa' 'Iris-setosa'\n",
      " 'Iris-setosa' 'Iris-setosa' 'Iris-setosa' 'Iris-setosa' 'Iris-setosa'\n",
      " 'Iris-setosa' 'Iris-setosa' 'Iris-setosa' 'Iris-setosa' 'Iris-setosa'\n",
      " 'Iris-setosa' 'Iris-setosa' 'Iris-setosa' 'Iris-setosa' 'Iris-setosa'\n",
      " 'Iris-versicolor' 'Iris-versicolor' 'Iris-versicolor' 'Iris-versicolor'\n",
      " 'Iris-versicolor' 'Iris-versicolor' 'Iris-versicolor' 'Iris-versicolor'\n",
      " 'Iris-versicolor' 'Iris-versicolor' 'Iris-versicolor' 'Iris-versicolor'\n",
      " 'Iris-versicolor' 'Iris-versicolor' 'Iris-versicolor' 'Iris-versicolor'\n",
      " 'Iris-versicolor' 'Iris-versicolor' 'Iris-versicolor' 'Iris-versicolor'\n",
      " 'Iris-versicolor' 'Iris-versicolor' 'Iris-versicolor' 'Iris-versicolor'\n",
      " 'Iris-versicolor' 'Iris-versicolor' 'Iris-versicolor' 'Iris-versicolor'\n",
      " 'Iris-versicolor' 'Iris-versicolor' 'Iris-versicolor' 'Iris-versicolor'\n",
      " 'Iris-versicolor' 'Iris-versicolor' 'Iris-versicolor' 'Iris-versicolor'\n",
      " 'Iris-versicolor' 'Iris-versicolor' 'Iris-versicolor' 'Iris-versicolor'\n",
      " 'Iris-versicolor' 'Iris-versicolor' 'Iris-versicolor' 'Iris-versicolor'\n",
      " 'Iris-versicolor' 'Iris-versicolor' 'Iris-versicolor' 'Iris-versicolor'\n",
      " 'Iris-versicolor' 'Iris-versicolor' 'Iris-virginica' 'Iris-virginica'\n",
      " 'Iris-virginica' 'Iris-virginica' 'Iris-virginica' 'Iris-virginica'\n",
      " 'Iris-virginica' 'Iris-virginica' 'Iris-virginica' 'Iris-virginica'\n",
      " 'Iris-virginica' 'Iris-virginica' 'Iris-virginica' 'Iris-virginica'\n",
      " 'Iris-virginica' 'Iris-virginica' 'Iris-virginica' 'Iris-virginica'\n",
      " 'Iris-virginica' 'Iris-virginica' 'Iris-virginica' 'Iris-virginica'\n",
      " 'Iris-virginica' 'Iris-virginica' 'Iris-virginica' 'Iris-virginica'\n",
      " 'Iris-virginica' 'Iris-virginica' 'Iris-virginica' 'Iris-virginica'\n",
      " 'Iris-virginica' 'Iris-virginica' 'Iris-virginica' 'Iris-virginica'\n",
      " 'Iris-virginica' 'Iris-virginica' 'Iris-virginica' 'Iris-virginica'\n",
      " 'Iris-virginica' 'Iris-virginica' 'Iris-virginica' 'Iris-virginica'\n",
      " 'Iris-virginica' 'Iris-virginica' 'Iris-virginica' 'Iris-virginica'\n",
      " 'Iris-virginica' 'Iris-virginica' 'Iris-virginica' 'Iris-virginica']\n"
     ]
    }
   ],
   "source": [
    "species=iris[:,4].astype(str)\n",
    "print(species)"
   ]
  },
  {
   "cell_type": "markdown",
   "metadata": {},
   "source": [
    "Exercício 10\n",
    "Calcule a média, mediana e desvio padrão da primeira coluna (sepallength) do dataset Iris."
   ]
  },
  {
   "cell_type": "code",
   "execution_count": 45,
   "metadata": {},
   "outputs": [
    {
     "name": "stdout",
     "output_type": "stream",
     "text": [
      "A mediana da primeira coluna é: 5.8\n",
      "A média da primeira coluna é é: 5.843333333333334\n",
      "Desvio padrao da primeira coluna é: 0.8253012917851409\n"
     ]
    }
   ],
   "source": [
    "\n",
    "#para fazer a mediana np.median(sepallength)\n",
    "mediana_sepallength=np.median(sepallength)\n",
    "print('A mediana da primeira coluna é:',mediana_sepallength)\n",
    "\n",
    "print(\"A média da primeira coluna é é:\",np.mean(sepallength))\n",
    "\n",
    "print(\"Desvio padrao da primeira coluna é:\",np.std(sepallength))\n"
   ]
  },
  {
   "cell_type": "markdown",
   "metadata": {},
   "source": [
    "Exercício 11\n",
    "Normalize a coluna (sepallength) do dataset iris de tal forma que o valor mínimo seja zero (0) e o valor máximo seja 1.\n"
   ]
  },
  {
   "cell_type": "code",
   "execution_count": 46,
   "metadata": {},
   "outputs": [
    {
     "name": "stdout",
     "output_type": "stream",
     "text": [
      "valor  é [5.1 4.9]\n",
      "valor máximo é: [0.22222222 0.16666667]\n"
     ]
    }
   ],
   "source": [
    "sepal_length_max=sepallength.max()\n",
    "sepal_length_min=sepallength.min()\n",
    "\n",
    "#Método 1\n",
    "sepallength_normalizada=(sepallength-sepal_length_min) / (sepal_length_max-sepal_length_min)\n",
    "\n",
    "print('valor  é', sepallength[:2])\n",
    "print('valor máximo é:', sepallength_normalizada[:2])\n"
   ]
  },
  {
   "cell_type": "markdown",
   "metadata": {},
   "source": [
    "Exercício 12\n",
    "Encontre o 5º e o 95º percentil do comprimento das pétalas (sepallength) do dataset Iris."
   ]
  },
  {
   "cell_type": "code",
   "execution_count": 47,
   "metadata": {},
   "outputs": [
    {
     "data": {
      "text/plain": [
       "array([4.6  , 7.255])"
      ]
     },
     "execution_count": 47,
     "metadata": {},
     "output_type": "execute_result"
    }
   ],
   "source": [
    "np.percentile(sepallength, q=[5,95])\n"
   ]
  },
  {
   "cell_type": "markdown",
   "metadata": {},
   "source": [
    "Exercício 13:\n",
    "Encontre a quantidade de valores ausentes, bem como a posição deles da primeira coluna da coluna comprimento das pétalas (sepallength), dentro do vetor abaixo:"
   ]
  },
  {
   "cell_type": "code",
   "execution_count": 48,
   "metadata": {},
   "outputs": [
    {
     "name": "stdout",
     "output_type": "stream",
     "text": [
      "Quantidade de valores ausentes: 5\n",
      "Posicao deos valores ausentes: (array([ 38,  80,  91, 113, 121], dtype=int64),)\n"
     ]
    }
   ],
   "source": [
    "url = 'https://archive.ics.uci.edu/ml/machine-learning-databases/iris/iris.data'\n",
    "iris_2d = np.genfromtxt(url, delimiter=',', dtype='float')\n",
    "iris_2d[np.random.randint(150, size=20), np.random.randint(4, size=20)] = np.nan\n",
    "\n",
    "print(\"Quantidade de valores ausentes:\",np.isnan(iris_2d[:,0]).sum())\n",
    "print(\"Posicao deos valores ausentes:\", np.where(np.isnan(iris_2d[:,0])))"
   ]
  },
  {
   "cell_type": "markdown",
   "metadata": {},
   "source": [
    "Exercicio 14:\n",
    "Filtre o vetor iris_2d do exercício anterior para que ele tenha: (terceira coluna (petallength) > 1.5) && (primeira coluna (sepallength) < 5.0)"
   ]
  },
  {
   "cell_type": "code",
   "execution_count": 49,
   "metadata": {},
   "outputs": [
    {
     "data": {
      "text/plain": [
       "array([[4.8, 3.4, 1.6, 0.2],\n",
       "       [4.8, 3.4, 1.9, 0.2],\n",
       "       [4.7, 3.2, 1.6, 0.2],\n",
       "       [4.8, 3.1, 1.6, 0.2],\n",
       "       [4.9, 2.4, 3.3, 1. ],\n",
       "       [4.9, 2.5, 4.5, 1.7]])"
      ]
     },
     "execution_count": 49,
     "metadata": {},
     "output_type": "execute_result"
    }
   ],
   "source": [
    "iris_2d = np.genfromtxt(iris_dataset_url, delimiter=\",\", dtype='float',usecols=[0,1,2,3], encoding='ascii')\n",
    "condicao=(iris_2d[:,2]>1.5) & (iris_2d[:,0]<5.0)\n",
    "iris_2d[condicao]"
   ]
  },
  {
   "cell_type": "markdown",
   "metadata": {},
   "source": [
    "Exercício 15:\n",
    "Selecione as linhas do vetor iris_2d que não contenham valores nan (Not a Number)."
   ]
  },
  {
   "cell_type": "code",
   "execution_count": 50,
   "metadata": {},
   "outputs": [
    {
     "data": {
      "text/plain": [
       "array([[5.1, 3.5, 1.4, 0.2],\n",
       "       [4.9, 3. , 1.4, 0.2],\n",
       "       [4.7, 3.2, 1.3, 0.2],\n",
       "       [4.6, 3.1, 1.5, 0.2],\n",
       "       [5. , 3.6, 1.4, 0.2]])"
      ]
     },
     "execution_count": 50,
     "metadata": {},
     "output_type": "execute_result"
    }
   ],
   "source": [
    "url = 'https://archive.ics.uci.edu/ml/machine-learning-databases/iris/iris.data'\n",
    "iris_2d = np.genfromtxt(url, delimiter=',', dtype='float', usecols=[0,1,2,3])\n",
    "\n",
    "any_nan_in_row=np.array([~np.any(np.isnan(row))for row in iris_2d])\n",
    "iris_2d[any_nan_in_row][:5]\n"
   ]
  },
  {
   "cell_type": "markdown",
   "metadata": {},
   "source": [
    "Exercíco 16: Encontre a correlação entre a primeira coluna (sepallength) e a (terceira coluna (petallength) no vetor iris_2d."
   ]
  },
  {
   "cell_type": "code",
   "execution_count": 51,
   "metadata": {},
   "outputs": [
    {
     "name": "stdout",
     "output_type": "stream",
     "text": [
      "[[1.         0.81795363]\n",
      " [0.81795363 1.        ]]\n"
     ]
    }
   ],
   "source": [
    "#Correlação entre sepallength e petallength\n",
    "\n",
    "petallength = iris[:,3].astype(float)\n",
    "\n",
    "correl = np.corrcoef(sepallength,petallength)\n",
    "print(correl)\n"
   ]
  },
  {
   "cell_type": "markdown",
   "metadata": {},
   "source": [
    "Exercício 17: Verifique se o vetor iris_2d possui qualquer valor faltante, caso possui deverá retornar True caso contrário False."
   ]
  },
  {
   "cell_type": "code",
   "execution_count": 52,
   "metadata": {},
   "outputs": [
    {
     "data": {
      "text/plain": [
       "False"
      ]
     },
     "execution_count": 52,
     "metadata": {},
     "output_type": "execute_result"
    }
   ],
   "source": [
    "url = 'https://archive.ics.uci.edu/ml/machine-learning-databases/iris/iris.data'\n",
    "iris_2d = np.genfromtxt(url, delimiter=',', dtype='float', usecols=[0,1,2,3])\n",
    "\n",
    "np.isnan(iris_2d).any()\n"
   ]
  },
  {
   "cell_type": "markdown",
   "metadata": {},
   "source": [
    "Exercicio 18: Substitua todas as ocorrências de nan (Not a Number) por zeros em um vetor NumPy."
   ]
  },
  {
   "cell_type": "code",
   "execution_count": 53,
   "metadata": {},
   "outputs": [
    {
     "name": "stdout",
     "output_type": "stream",
     "text": [
      "Quantidade de numeros faltantes: 19\n",
      "Localizaçao dos faltantes: (array([  0,   5,  33,  36,  38,  43,  58,  70,  71,  76,  84,  94,  95,\n",
      "       102, 105, 114, 119, 131, 138], dtype=int64), array([1, 2, 1, 2, 3, 0, 2, 2, 0, 1, 1, 3, 1, 2, 1, 0, 0, 3, 2],\n",
      "      dtype=int64))\n",
      "Quantidade de numeros faltantes após substituição: 0\n"
     ]
    }
   ],
   "source": [
    "# Entrada\n",
    "url = 'https://archive.ics.uci.edu/ml/machine-learning-databases/iris/iris.data'\n",
    "iris_2d = np.genfromtxt(url, delimiter=',', dtype='float', usecols=[0,1,2,3])\n",
    "iris_2d[np.random.randint(150, size=20), np.random.randint(4, size=20)] = np.nan\n",
    "\n",
    "#imprime na tela os numeros faltantes e suas localizaçoes\n",
    "print(\"Quantidade de numeros faltantes:\",np.isnan(iris_2d).sum())\n",
    "print(\"Localizaçao dos faltantes:\", np.where(np.isnan(iris_2d)))\n",
    "\n",
    "\n",
    "#substitui os nan por 0\n",
    "iris_2d[np.isnan(iris_2d)] = 0\n",
    "\n",
    "print(\"Quantidade de numeros faltantes após substituição:\",np.isnan(iris_2d).sum())\n"
   ]
  },
  {
   "cell_type": "markdown",
   "metadata": {},
   "source": [
    "Exercicio 19: Encontre e conte os valores únicos da coluna species"
   ]
  },
  {
   "cell_type": "code",
   "execution_count": 54,
   "metadata": {},
   "outputs": [
    {
     "name": "stdout",
     "output_type": "stream",
     "text": [
      "O tipo b'Iris-setosa' apareceu 50 vezes\n",
      "O tipo b'Iris-versicolor' apareceu 50 vezes\n",
      "O tipo b'Iris-virginica' apareceu 50 vezes\n"
     ]
    }
   ],
   "source": [
    "# Entrada\n",
    "url = 'https://archive.ics.uci.edu/ml/machine-learning-databases/iris/iris.data'\n",
    "iris = np.genfromtxt(url, delimiter=',', dtype='object')\n",
    "names = ('sepallength', 'sepalwidth', 'petallength', 'petalwidth', 'species')\n",
    "\n",
    "#captura a quantidade de valores unicos em de cada tipo de especies.\n",
    "valor = np.array(np.unique(iris[:,4], return_counts=True)).T\n",
    "for nome, quant in valor:\n",
    "    print(\"O tipo\",nome,\"apareceu\",quant, \"vezes\")\n"
   ]
  },
  {
   "cell_type": "markdown",
   "metadata": {},
   "source": [
    "Exercicio 20: Mapeie terceira coluna (petallength) de tal forma que os valores numéricos sejam substituídos por valores textuais, seguindo de acordo com a tabela abaixo:\n",
    "\n",
    "Número \tClassificação\n",
    "Menor do que 3 \tPequena\n",
    "entre 3 e 5 \tMédia\n",
    "Maior ou Igual a 5 \tGrande"
   ]
  },
  {
   "cell_type": "code",
   "execution_count": 55,
   "metadata": {},
   "outputs": [
    {
     "data": {
      "text/plain": [
       "['Pequeno',\n",
       " 'Pequeno',\n",
       " 'Pequeno',\n",
       " 'Pequeno',\n",
       " 'Pequeno',\n",
       " 'Pequeno',\n",
       " 'Pequeno',\n",
       " 'Pequeno',\n",
       " 'Pequeno',\n",
       " 'Pequeno',\n",
       " 'Pequeno',\n",
       " 'Pequeno',\n",
       " 'Pequeno',\n",
       " 'Pequeno',\n",
       " 'Pequeno',\n",
       " 'Pequeno',\n",
       " 'Pequeno',\n",
       " 'Pequeno',\n",
       " 'Pequeno',\n",
       " 'Pequeno',\n",
       " 'Pequeno',\n",
       " 'Pequeno',\n",
       " 'Pequeno',\n",
       " 'Pequeno',\n",
       " 'Pequeno',\n",
       " 'Pequeno',\n",
       " 'Pequeno',\n",
       " 'Pequeno',\n",
       " 'Pequeno',\n",
       " 'Pequeno',\n",
       " 'Pequeno',\n",
       " 'Pequeno',\n",
       " 'Pequeno',\n",
       " 'Pequeno',\n",
       " 'Pequeno',\n",
       " 'Pequeno',\n",
       " 'Pequeno',\n",
       " 'Pequeno',\n",
       " 'Pequeno',\n",
       " 'Pequeno',\n",
       " 'Pequeno',\n",
       " 'Pequeno',\n",
       " 'Pequeno',\n",
       " 'Pequeno',\n",
       " 'Pequeno',\n",
       " 'Pequeno',\n",
       " 'Pequeno',\n",
       " 'Pequeno',\n",
       " 'Pequeno',\n",
       " 'Pequeno',\n",
       " 'Medio',\n",
       " 'Medio',\n",
       " 'Medio',\n",
       " 'Medio',\n",
       " 'Medio',\n",
       " 'Medio',\n",
       " 'Medio',\n",
       " 'Medio',\n",
       " 'Medio',\n",
       " 'Medio',\n",
       " 'Medio',\n",
       " 'Medio',\n",
       " 'Medio',\n",
       " 'Medio',\n",
       " 'Medio',\n",
       " 'Medio',\n",
       " 'Medio',\n",
       " 'Medio',\n",
       " 'Medio',\n",
       " 'Medio',\n",
       " 'Medio',\n",
       " 'Medio',\n",
       " 'Medio',\n",
       " 'Medio',\n",
       " 'Medio',\n",
       " 'Medio',\n",
       " 'Medio',\n",
       " 'Grande',\n",
       " 'Medio',\n",
       " 'Medio',\n",
       " 'Medio',\n",
       " 'Medio',\n",
       " 'Medio',\n",
       " 'Grande',\n",
       " 'Medio',\n",
       " 'Medio',\n",
       " 'Medio',\n",
       " 'Medio',\n",
       " 'Medio',\n",
       " 'Medio',\n",
       " 'Medio',\n",
       " 'Medio',\n",
       " 'Medio',\n",
       " 'Medio',\n",
       " 'Medio',\n",
       " 'Medio',\n",
       " 'Medio',\n",
       " 'Medio',\n",
       " 'Medio',\n",
       " 'Medio',\n",
       " 'Grande',\n",
       " 'Grande',\n",
       " 'Grande',\n",
       " 'Grande',\n",
       " 'Grande',\n",
       " 'Grande',\n",
       " 'Medio',\n",
       " 'Grande',\n",
       " 'Grande',\n",
       " 'Grande',\n",
       " 'Grande',\n",
       " 'Grande',\n",
       " 'Grande',\n",
       " 'Grande',\n",
       " 'Grande',\n",
       " 'Grande',\n",
       " 'Grande',\n",
       " 'Grande',\n",
       " 'Grande',\n",
       " 'Grande',\n",
       " 'Grande',\n",
       " 'Medio',\n",
       " 'Grande',\n",
       " 'Medio',\n",
       " 'Grande',\n",
       " 'Grande',\n",
       " 'Medio',\n",
       " 'Medio',\n",
       " 'Grande',\n",
       " 'Grande',\n",
       " 'Grande',\n",
       " 'Grande',\n",
       " 'Grande',\n",
       " 'Grande',\n",
       " 'Grande',\n",
       " 'Grande',\n",
       " 'Grande',\n",
       " 'Grande',\n",
       " 'Medio',\n",
       " 'Grande',\n",
       " 'Grande',\n",
       " 'Grande',\n",
       " 'Grande',\n",
       " 'Grande',\n",
       " 'Grande',\n",
       " 'Grande',\n",
       " 'Grande',\n",
       " 'Grande',\n",
       " 'Grande',\n",
       " 'Grande']"
      ]
     },
     "execution_count": 55,
     "metadata": {},
     "output_type": "execute_result"
    }
   ],
   "source": [
    "petal_length_intervalos = np.digitize(iris[:,2].astype('float'), [0,3,5,10])\n",
    "mapeamento_rotulos = {1:'Pequeno', 2:'Medio', 3:'Grande', 4:np.nan}\n",
    "petal_length_categorizada = [mapeamento_rotulos[i] for i in petal_length_intervalos]\n",
    "petal_length_categorizada\n"
   ]
  },
  {
   "cell_type": "markdown",
   "metadata": {},
   "source": [
    "Exercício 21: Crie uma nova coluna chamada volume, preenchida com dados resultantes da seguinte equação:\n",
    "\n",
    "𝑣𝑜𝑙𝑢𝑚𝑒=( 𝑃𝑖 𝑥 𝑃𝑒𝑡𝑎𝑙𝑙𝑒𝑛𝑔𝑡ℎ 𝑥 𝑆𝑒𝑝𝑎𝑙𝐿𝑒𝑛𝑔𝑡ℎ2 )/3"
   ]
  },
  {
   "cell_type": "code",
   "execution_count": 56,
   "metadata": {},
   "outputs": [
    {
     "name": "stdout",
     "output_type": "stream",
     "text": [
      "[[b'5.1' b'3.5' b'1.4' b'0.2' b'Iris-setosa' 5.447521661324701]\n",
      " [b'4.9' b'3.0' b'1.4' b'0.2' b'Iris-setosa' 5.028642640846063]\n",
      " [b'4.7' b'3.2' b'1.3' b'0.2' b'Iris-setosa' 4.62651878118657]\n",
      " [b'4.6' b'3.1' b'1.5' b'0.2' b'Iris-setosa' 4.431740036664]\n",
      " [b'5.0' b'3.6' b'1.4' b'0.2' b'Iris-setosa' 5.235987755982989]\n",
      " [b'5.4' b'3.9' b'1.7' b'0.4' b'Iris-setosa' 12.214512237157116]\n",
      " [b'4.6' b'3.4' b'1.4' b'0.3' b'Iris-setosa' 6.647610054996001]\n",
      " [b'5.0' b'3.4' b'1.5' b'0.2' b'Iris-setosa' 5.235987755982989]\n",
      " [b'4.4' b'2.9' b'1.4' b'0.2' b'Iris-setosa' 4.054748918233227]\n",
      " [b'4.9' b'3.1' b'1.5' b'0.1' b'Iris-setosa' 2.5143213204230315]\n",
      " [b'5.4' b'3.7' b'1.5' b'0.2' b'Iris-setosa' 6.107256118578558]\n",
      " [b'4.8' b'3.4' b'1.6' b'0.2' b'Iris-setosa' 4.825486315913922]\n",
      " [b'4.8' b'3.0' b'1.4' b'0.1' b'Iris-setosa' 2.412743157956961]\n",
      " [b'4.3' b'3.0' b'1.1' b'0.1' b'Iris-setosa' 1.9362682721625089]\n",
      " [b'5.8' b'4.0' b'1.2' b'0.2' b'Iris-setosa' 7.045545124450709]\n",
      " [b'5.7' b'4.4' b'1.5' b'0.4' b'Iris-setosa' 13.609379375350985]\n",
      " [b'5.4' b'3.9' b'1.3' b'0.4' b'Iris-setosa' 12.214512237157116]\n",
      " [b'5.1' b'3.5' b'1.4' b'0.3' b'Iris-setosa' 8.171282491987052]\n",
      " [b'5.7' b'3.8' b'1.7' b'0.3' b'Iris-setosa' 10.207034531513239]\n",
      " [b'5.1' b'3.8' b'1.5' b'0.3' b'Iris-setosa' 8.171282491987052]\n",
      " [b'5.4' b'3.4' b'1.7' b'0.2' b'Iris-setosa' 6.107256118578558]\n",
      " [b'5.1' b'3.7' b'1.5' b'0.4' b'Iris-setosa' 10.895043322649402]\n",
      " [b'4.6' b'3.6' b'1.0' b'0.2' b'Iris-setosa' 4.431740036664]\n",
      " [b'5.1' b'3.3' b'1.7' b'0.5' b'Iris-setosa' 13.618804153311752]\n",
      " [b'4.8' b'3.4' b'1.9' b'0.2' b'Iris-setosa' 4.825486315913922]\n",
      " [b'5.0' b'3.0' b'1.6' b'0.2' b'Iris-setosa' 5.235987755982989]\n",
      " [b'5.0' b'3.4' b'1.6' b'0.4' b'Iris-setosa' 10.471975511965978]\n",
      " [b'5.2' b'3.5' b'1.5' b'0.2' b'Iris-setosa' 5.663244356871201]\n",
      " [b'5.2' b'3.4' b'1.4' b'0.2' b'Iris-setosa' 5.663244356871201]\n",
      " [b'4.7' b'3.2' b'1.6' b'0.2' b'Iris-setosa' 4.62651878118657]\n",
      " [b'4.8' b'3.1' b'1.6' b'0.2' b'Iris-setosa' 4.825486315913922]\n",
      " [b'5.4' b'3.4' b'1.5' b'0.4' b'Iris-setosa' 12.214512237157116]\n",
      " [b'5.2' b'4.1' b'1.5' b'0.1' b'Iris-setosa' 2.8316221784356004]\n",
      " [b'5.5' b'4.2' b'1.4' b'0.2' b'Iris-setosa' 6.335545184739416]\n",
      " [b'4.9' b'3.1' b'1.5' b'0.1' b'Iris-setosa' 2.5143213204230315]\n",
      " [b'5.0' b'3.2' b'1.2' b'0.2' b'Iris-setosa' 5.235987755982989]\n",
      " [b'5.5' b'3.5' b'1.3' b'0.2' b'Iris-setosa' 6.335545184739416]\n",
      " [b'4.9' b'3.1' b'1.5' b'0.1' b'Iris-setosa' 2.5143213204230315]\n",
      " [b'4.4' b'3.0' b'1.3' b'0.2' b'Iris-setosa' 4.054748918233227]\n",
      " [b'5.1' b'3.4' b'1.5' b'0.2' b'Iris-setosa' 5.447521661324701]\n",
      " [b'5.0' b'3.5' b'1.3' b'0.3' b'Iris-setosa' 7.853981633974482]\n",
      " [b'4.5' b'2.3' b'1.3' b'0.3' b'Iris-setosa' 6.3617251235193315]\n",
      " [b'4.4' b'3.2' b'1.3' b'0.2' b'Iris-setosa' 4.054748918233227]\n",
      " [b'5.0' b'3.5' b'1.6' b'0.6' b'Iris-setosa' 15.707963267948964]\n",
      " [b'5.1' b'3.8' b'1.9' b'0.4' b'Iris-setosa' 10.895043322649402]\n",
      " [b'4.8' b'3.0' b'1.4' b'0.3' b'Iris-setosa' 7.2382294738708834]\n",
      " [b'5.1' b'3.8' b'1.6' b'0.2' b'Iris-setosa' 5.447521661324701]\n",
      " [b'4.6' b'3.2' b'1.4' b'0.2' b'Iris-setosa' 4.431740036664]\n",
      " [b'5.3' b'3.7' b'1.5' b'0.2' b'Iris-setosa' 5.883155842622486]\n",
      " [b'5.0' b'3.3' b'1.4' b'0.2' b'Iris-setosa' 5.235987755982989]\n",
      " [b'7.0' b'3.2' b'4.7' b'1.4' b'Iris-versicolor' 71.8377520120866]\n",
      " [b'6.4' b'3.2' b'4.5' b'1.5' b'Iris-versicolor' 64.33981754551898]\n",
      " [b'6.9' b'3.1' b'4.9' b'1.5' b'Iris-versicolor' 74.78561311870503]\n",
      " [b'5.5' b'2.3' b'4.0' b'1.3' b'Iris-versicolor' 41.18104370080621]\n",
      " [b'6.5' b'2.8' b'4.6' b'1.5' b'Iris-versicolor' 66.36614480708438]\n",
      " [b'5.7' b'2.8' b'4.5' b'1.3' b'Iris-versicolor' 44.230482969890694]\n",
      " [b'6.3' b'3.3' b'4.7' b'1.6' b'Iris-versicolor' 66.50123329118874]\n",
      " [b'4.9' b'2.4' b'3.3' b'1.0' b'Iris-versicolor' 25.143213204230317]\n",
      " [b'6.6' b'2.9' b'4.6' b'1.3' b'Iris-versicolor' 59.30070292916093]\n",
      " [b'5.2' b'2.7' b'3.9' b'1.4' b'Iris-versicolor' 39.6427104980984]\n",
      " [b'5.0' b'2.0' b'3.5' b'1.0' b'Iris-versicolor' 26.179938779914945]\n",
      " [b'5.9' b'3.0' b'4.2' b'1.5' b'Iris-versicolor' 54.679420135730346]\n",
      " [b'6.0' b'2.2' b'4.0' b'1.0' b'Iris-versicolor' 37.69911184307752]\n",
      " [b'6.1' b'2.9' b'4.7' b'1.4' b'Iris-versicolor' 54.55270923203555]\n",
      " [b'5.6' b'2.9' b'3.6' b'1.3' b'Iris-versicolor' 42.69214976718289]\n",
      " [b'6.7' b'3.1' b'4.4' b'1.4' b'Iris-versicolor' 65.81217730250138]\n",
      " [b'5.6' b'3.0' b'4.5' b'1.5' b'Iris-versicolor' 49.260172808287955]\n",
      " [b'5.8' b'2.7' b'4.1' b'1.0' b'Iris-versicolor' 35.22772562225355]\n",
      " [b'6.2' b'2.2' b'4.5' b'1.5' b'Iris-versicolor' 60.38141080199583]\n",
      " [b'5.6' b'2.5' b'3.9' b'1.1' b'Iris-versicolor' 36.12412672607783]\n",
      " [b'5.9' b'3.2' b'4.8' b'1.8' b'Iris-versicolor' 65.61530416287643]\n",
      " [b'6.1' b'2.8' b'4.0' b'1.3' b'Iris-versicolor' 50.656087144033016]\n",
      " [b'6.3' b'2.5' b'4.9' b'1.5' b'Iris-versicolor' 62.344906210489434]\n",
      " [b'6.1' b'2.8' b'4.7' b'1.2' b'Iris-versicolor' 46.75946505603047]\n",
      " [b'6.4' b'2.9' b'4.3' b'1.3' b'Iris-versicolor' 55.76117520611644]\n",
      " [b'6.6' b'3.0' b'4.4' b'1.4' b'Iris-versicolor' 63.86229546217331]\n",
      " [b'6.8' b'2.8' b'4.8' b'1.4' b'Iris-versicolor' 67.79138067426294]\n",
      " [b'6.7' b'3.0' b'5.0' b'1.7' b'Iris-versicolor' 79.91478672446597]\n",
      " [b'6.0' b'2.9' b'4.5' b'1.5' b'Iris-versicolor' 56.548667764616276]\n",
      " [b'5.7' b'2.6' b'3.5' b'1.0' b'Iris-versicolor' 34.023448438377464]\n",
      " [b'5.5' b'2.4' b'3.8' b'1.1' b'Iris-versicolor' 34.84549851606679]\n",
      " [b'5.5' b'2.4' b'3.7' b'1.0' b'Iris-versicolor' 31.677725923697082]\n",
      " [b'5.8' b'2.7' b'3.9' b'1.2' b'Iris-versicolor' 42.273270746704256]\n",
      " [b'6.0' b'2.7' b'5.1' b'1.6' b'Iris-versicolor' 60.31857894892403]\n",
      " [b'5.4' b'3.0' b'4.5' b'1.5' b'Iris-versicolor' 45.80442088933919]\n",
      " [b'6.0' b'3.4' b'4.5' b'1.6' b'Iris-versicolor' 60.31857894892403]\n",
      " [b'6.7' b'3.1' b'4.7' b'1.5' b'Iris-versicolor' 70.5130471098229]\n",
      " [b'6.3' b'2.3' b'4.4' b'1.3' b'Iris-versicolor' 54.03225204909085]\n",
      " [b'5.6' b'3.0' b'4.1' b'1.3' b'Iris-versicolor' 42.69214976718289]\n",
      " [b'5.5' b'2.5' b'4.0' b'1.3' b'Iris-versicolor' 41.18104370080621]\n",
      " [b'5.5' b'2.6' b'4.4' b'1.2' b'Iris-versicolor' 38.0132711084365]\n",
      " [b'6.1' b'3.0' b'4.6' b'1.4' b'Iris-versicolor' 54.55270923203555]\n",
      " [b'5.8' b'2.6' b'4.0' b'1.2' b'Iris-versicolor' 42.273270746704256]\n",
      " [b'5.0' b'2.3' b'3.3' b'1.0' b'Iris-versicolor' 26.179938779914945]\n",
      " [b'5.6' b'2.7' b'4.2' b'1.3' b'Iris-versicolor' 42.69214976718289]\n",
      " [b'5.7' b'3.0' b'4.2' b'1.2' b'Iris-versicolor' 40.828138126052956]\n",
      " [b'5.7' b'2.9' b'4.2' b'1.3' b'Iris-versicolor' 44.230482969890694]\n",
      " [b'6.2' b'2.9' b'4.3' b'1.3' b'Iris-versicolor' 52.33055602839639]\n",
      " [b'5.1' b'2.5' b'3.0' b'1.1' b'Iris-versicolor' 29.961369137285857]\n",
      " [b'5.7' b'2.8' b'4.1' b'1.3' b'Iris-versicolor' 44.230482969890694]\n",
      " [b'6.3' b'3.3' b'6.0' b'2.5' b'Iris-virginica' 103.9081770174824]\n",
      " [b'5.8' b'2.7' b'5.1' b'1.9' b'Iris-virginica' 66.93267868228175]\n",
      " [b'7.1' b'3.0' b'5.9' b'2.1' b'Iris-virginica' 110.85737996722303]\n",
      " [b'6.3' b'2.9' b'5.6' b'1.8' b'Iris-virginica' 74.81388745258734]\n",
      " [b'6.5' b'3.0' b'5.8' b'2.2' b'Iris-virginica' 97.33701238372377]\n",
      " [b'7.6' b'3.0' b'6.6' b'2.1' b'Iris-virginica' 127.0208741699425]\n",
      " [b'4.9' b'2.5' b'4.5' b'1.7' b'Iris-virginica' 42.74346244719154]\n",
      " [b'7.3' b'2.9' b'6.3' b'1.8' b'Iris-virginica' 100.44928350588005]\n",
      " [b'6.7' b'2.5' b'5.8' b'1.8' b'Iris-virginica' 84.6156565317875]\n",
      " [b'7.2' b'3.6' b'6.1' b'2.5' b'Iris-virginica' 135.71680263507906]\n",
      " [b'6.5' b'3.2' b'5.1' b'2.0' b'Iris-virginica' 88.48819307611251]\n",
      " [b'6.4' b'2.7' b'5.3' b'1.9' b'Iris-virginica' 81.49710222432404]\n",
      " [b'6.8' b'3.0' b'5.5' b'2.1' b'Iris-virginica' 101.68707101139442]\n",
      " [b'5.7' b'2.5' b'5.0' b'2.0' b'Iris-virginica' 68.04689687675493]\n",
      " [b'5.8' b'2.8' b'5.1' b'2.4' b'Iris-virginica' 84.54654149340851]\n",
      " [b'6.4' b'3.2' b'5.3' b'2.3' b'Iris-virginica' 98.65438690312908]\n",
      " [b'6.5' b'3.0' b'5.5' b'1.8' b'Iris-virginica' 79.63937376850126]\n",
      " [b'7.7' b'3.8' b'6.7' b'2.2' b'Iris-virginica' 136.59435418298185]\n",
      " [b'7.7' b'2.6' b'6.9' b'2.3' b'Iris-virginica' 142.80318846402642]\n",
      " [b'6.0' b'2.2' b'5.0' b'1.5' b'Iris-virginica' 56.548667764616276]\n",
      " [b'6.9' b'3.2' b'5.7' b'2.3' b'Iris-virginica' 114.67127344868105]\n",
      " [b'5.6' b'2.8' b'4.9' b'2.0' b'Iris-virginica' 65.6802304110506]\n",
      " [b'7.7' b'2.8' b'6.7' b'2.0' b'Iris-virginica' 124.17668562089257]\n",
      " [b'6.3' b'2.7' b'4.9' b'1.8' b'Iris-virginica' 74.81388745258734]\n",
      " [b'6.7' b'3.3' b'5.7' b'2.1' b'Iris-virginica' 98.71826595375207]\n",
      " [b'7.2' b'3.2' b'6.0' b'1.8' b'Iris-virginica' 97.71609789725693]\n",
      " [b'6.2' b'2.8' b'4.8' b'1.8' b'Iris-virginica' 72.457692962395]\n",
      " [b'6.1' b'3.0' b'4.9' b'1.8' b'Iris-virginica' 70.1391975840457]\n",
      " [b'6.4' b'2.8' b'5.6' b'2.1' b'Iris-virginica' 90.07574456372657]\n",
      " [b'7.2' b'3.0' b'5.8' b'1.6' b'Iris-virginica' 86.8587536864506]\n",
      " [b'7.4' b'2.8' b'6.1' b'1.9' b'Iris-virginica' 108.95462201669882]\n",
      " [b'7.9' b'3.8' b'6.4' b'2.0' b'Iris-virginica' 130.71119834035935]\n",
      " [b'6.4' b'2.8' b'5.6' b'2.2' b'Iris-virginica' 94.36506573342784]\n",
      " [b'6.3' b'2.8' b'5.1' b'1.5' b'Iris-virginica' 62.344906210489434]\n",
      " [b'6.1' b'2.6' b'5.6' b'1.4' b'Iris-virginica' 54.55270923203555]\n",
      " [b'7.7' b'3.0' b'6.1' b'2.3' b'Iris-virginica' 142.80318846402642]\n",
      " [b'6.3' b'3.4' b'5.6' b'2.4' b'Iris-virginica' 99.7518499367831]\n",
      " [b'6.4' b'3.1' b'5.5' b'1.8' b'Iris-virginica' 77.20778105462277]\n",
      " [b'6.0' b'3.0' b'4.8' b'1.8' b'Iris-virginica' 67.85840131753953]\n",
      " [b'6.9' b'3.1' b'5.4' b'2.1' b'Iris-virginica' 104.69985836618706]\n",
      " [b'6.7' b'3.1' b'5.6' b'2.4' b'Iris-virginica' 112.82087537571665]\n",
      " [b'6.9' b'3.1' b'5.1' b'2.3' b'Iris-virginica' 114.67127344868105]\n",
      " [b'5.8' b'2.7' b'5.1' b'1.9' b'Iris-virginica' 66.93267868228175]\n",
      " [b'6.8' b'3.2' b'5.9' b'2.3' b'Iris-virginica' 111.37155396486054]\n",
      " [b'6.7' b'3.3' b'5.7' b'2.5' b'Iris-virginica' 117.52174518303819]\n",
      " [b'6.7' b'3.0' b'5.2' b'2.3' b'Iris-virginica' 108.12000556839511]\n",
      " [b'6.3' b'2.5' b'5.0' b'1.9' b'Iris-virginica' 78.97021453328662]\n",
      " [b'6.5' b'3.0' b'5.2' b'2.0' b'Iris-virginica' 88.48819307611251]\n",
      " [b'6.2' b'3.4' b'5.4' b'2.3' b'Iris-virginica' 92.5848298963936]\n",
      " [b'5.9' b'3.0' b'5.1' b'1.8' b'Iris-virginica' 65.61530416287643]]\n"
     ]
    }
   ],
   "source": [
    "# Entrada\n",
    "\n",
    "import math\n",
    "\n",
    "url = 'https://archive.ics.uci.edu/ml/machine-learning-databases/iris/iris.data'\n",
    "iris_2d = np.genfromtxt(url, delimiter=',', dtype='object')\n",
    "nomes = ('sepallength', 'sepalwidth', 'petallength', 'petalwidth', 'species')\n",
    "\n",
    "volume = (math.pi * petallength * (sepallength**2))/3\n",
    "\n",
    "#foi inserido na 5 coluna os valores de volume\n",
    "iris_4d = np.insert(iris_2d, 5,volume, axis=1)\n",
    "print(iris_4d)\n"
   ]
  },
  {
   "cell_type": "markdown",
   "metadata": {},
   "source": [
    "Exercício 22: Usando NumPy e o dataset iris responda: Qual é o segundo maior valor de comprimento de pétala (petallength) da espécie setosa?"
   ]
  },
  {
   "cell_type": "code",
   "execution_count": 57,
   "metadata": {},
   "outputs": [
    {
     "name": "stdout",
     "output_type": "stream",
     "text": [
      "O segundo maior valor é: b'6.7'\n"
     ]
    }
   ],
   "source": [
    "# Entrada\n",
    "url = 'https://archive.ics.uci.edu/ml/machine-learning-databases/iris/iris.data'\n",
    "iris = np.genfromtxt(url, delimiter=',', dtype='object')\n",
    "nomes = ('sepallength', 'sepalwidth', 'petallength', 'petalwidth', 'species')\n",
    "\n",
    "#ordena a lista do maior para o menor e salva em uma variavel\n",
    "ordenada = sorted(iris[:,2], reverse=True)\n",
    "print(\"O segundo maior valor é:\",ordenada[1])\n"
   ]
  },
  {
   "cell_type": "markdown",
   "metadata": {},
   "source": [
    "Exercício 23: Ordene o dataset iris com base na coluna sepallength de maneira crescente."
   ]
  },
  {
   "cell_type": "code",
   "execution_count": 58,
   "metadata": {},
   "outputs": [
    {
     "data": {
      "text/plain": [
       "[array([b'4.3', b'3.0', b'1.1', b'0.1', b'Iris-setosa'], dtype=object),\n",
       " array([b'4.4', b'2.9', b'1.4', b'0.2', b'Iris-setosa'], dtype=object),\n",
       " array([b'4.4', b'3.0', b'1.3', b'0.2', b'Iris-setosa'], dtype=object),\n",
       " array([b'4.4', b'3.2', b'1.3', b'0.2', b'Iris-setosa'], dtype=object),\n",
       " array([b'4.5', b'2.3', b'1.3', b'0.3', b'Iris-setosa'], dtype=object),\n",
       " array([b'4.6', b'3.1', b'1.5', b'0.2', b'Iris-setosa'], dtype=object),\n",
       " array([b'4.6', b'3.4', b'1.4', b'0.3', b'Iris-setosa'], dtype=object),\n",
       " array([b'4.6', b'3.6', b'1.0', b'0.2', b'Iris-setosa'], dtype=object),\n",
       " array([b'4.6', b'3.2', b'1.4', b'0.2', b'Iris-setosa'], dtype=object),\n",
       " array([b'4.7', b'3.2', b'1.3', b'0.2', b'Iris-setosa'], dtype=object),\n",
       " array([b'4.7', b'3.2', b'1.6', b'0.2', b'Iris-setosa'], dtype=object),\n",
       " array([b'4.8', b'3.4', b'1.6', b'0.2', b'Iris-setosa'], dtype=object),\n",
       " array([b'4.8', b'3.0', b'1.4', b'0.1', b'Iris-setosa'], dtype=object),\n",
       " array([b'4.8', b'3.4', b'1.9', b'0.2', b'Iris-setosa'], dtype=object),\n",
       " array([b'4.8', b'3.1', b'1.6', b'0.2', b'Iris-setosa'], dtype=object),\n",
       " array([b'4.8', b'3.0', b'1.4', b'0.3', b'Iris-setosa'], dtype=object),\n",
       " array([b'4.9', b'3.0', b'1.4', b'0.2', b'Iris-setosa'], dtype=object),\n",
       " array([b'4.9', b'3.1', b'1.5', b'0.1', b'Iris-setosa'], dtype=object),\n",
       " array([b'4.9', b'3.1', b'1.5', b'0.1', b'Iris-setosa'], dtype=object),\n",
       " array([b'4.9', b'3.1', b'1.5', b'0.1', b'Iris-setosa'], dtype=object),\n",
       " array([b'4.9', b'2.4', b'3.3', b'1.0', b'Iris-versicolor'], dtype=object),\n",
       " array([b'4.9', b'2.5', b'4.5', b'1.7', b'Iris-virginica'], dtype=object),\n",
       " array([b'5.0', b'3.6', b'1.4', b'0.2', b'Iris-setosa'], dtype=object),\n",
       " array([b'5.0', b'3.4', b'1.5', b'0.2', b'Iris-setosa'], dtype=object),\n",
       " array([b'5.0', b'3.0', b'1.6', b'0.2', b'Iris-setosa'], dtype=object),\n",
       " array([b'5.0', b'3.4', b'1.6', b'0.4', b'Iris-setosa'], dtype=object),\n",
       " array([b'5.0', b'3.2', b'1.2', b'0.2', b'Iris-setosa'], dtype=object),\n",
       " array([b'5.0', b'3.5', b'1.3', b'0.3', b'Iris-setosa'], dtype=object),\n",
       " array([b'5.0', b'3.5', b'1.6', b'0.6', b'Iris-setosa'], dtype=object),\n",
       " array([b'5.0', b'3.3', b'1.4', b'0.2', b'Iris-setosa'], dtype=object),\n",
       " array([b'5.0', b'2.0', b'3.5', b'1.0', b'Iris-versicolor'], dtype=object),\n",
       " array([b'5.0', b'2.3', b'3.3', b'1.0', b'Iris-versicolor'], dtype=object),\n",
       " array([b'5.1', b'3.5', b'1.4', b'0.2', b'Iris-setosa'], dtype=object),\n",
       " array([b'5.1', b'3.5', b'1.4', b'0.3', b'Iris-setosa'], dtype=object),\n",
       " array([b'5.1', b'3.8', b'1.5', b'0.3', b'Iris-setosa'], dtype=object),\n",
       " array([b'5.1', b'3.7', b'1.5', b'0.4', b'Iris-setosa'], dtype=object),\n",
       " array([b'5.1', b'3.3', b'1.7', b'0.5', b'Iris-setosa'], dtype=object),\n",
       " array([b'5.1', b'3.4', b'1.5', b'0.2', b'Iris-setosa'], dtype=object),\n",
       " array([b'5.1', b'3.8', b'1.9', b'0.4', b'Iris-setosa'], dtype=object),\n",
       " array([b'5.1', b'3.8', b'1.6', b'0.2', b'Iris-setosa'], dtype=object),\n",
       " array([b'5.1', b'2.5', b'3.0', b'1.1', b'Iris-versicolor'], dtype=object),\n",
       " array([b'5.2', b'3.5', b'1.5', b'0.2', b'Iris-setosa'], dtype=object),\n",
       " array([b'5.2', b'3.4', b'1.4', b'0.2', b'Iris-setosa'], dtype=object),\n",
       " array([b'5.2', b'4.1', b'1.5', b'0.1', b'Iris-setosa'], dtype=object),\n",
       " array([b'5.2', b'2.7', b'3.9', b'1.4', b'Iris-versicolor'], dtype=object),\n",
       " array([b'5.3', b'3.7', b'1.5', b'0.2', b'Iris-setosa'], dtype=object),\n",
       " array([b'5.4', b'3.9', b'1.7', b'0.4', b'Iris-setosa'], dtype=object),\n",
       " array([b'5.4', b'3.7', b'1.5', b'0.2', b'Iris-setosa'], dtype=object),\n",
       " array([b'5.4', b'3.9', b'1.3', b'0.4', b'Iris-setosa'], dtype=object),\n",
       " array([b'5.4', b'3.4', b'1.7', b'0.2', b'Iris-setosa'], dtype=object),\n",
       " array([b'5.4', b'3.4', b'1.5', b'0.4', b'Iris-setosa'], dtype=object),\n",
       " array([b'5.4', b'3.0', b'4.5', b'1.5', b'Iris-versicolor'], dtype=object),\n",
       " array([b'5.5', b'4.2', b'1.4', b'0.2', b'Iris-setosa'], dtype=object),\n",
       " array([b'5.5', b'3.5', b'1.3', b'0.2', b'Iris-setosa'], dtype=object),\n",
       " array([b'5.5', b'2.3', b'4.0', b'1.3', b'Iris-versicolor'], dtype=object),\n",
       " array([b'5.5', b'2.4', b'3.8', b'1.1', b'Iris-versicolor'], dtype=object),\n",
       " array([b'5.5', b'2.4', b'3.7', b'1.0', b'Iris-versicolor'], dtype=object),\n",
       " array([b'5.5', b'2.5', b'4.0', b'1.3', b'Iris-versicolor'], dtype=object),\n",
       " array([b'5.5', b'2.6', b'4.4', b'1.2', b'Iris-versicolor'], dtype=object),\n",
       " array([b'5.6', b'2.9', b'3.6', b'1.3', b'Iris-versicolor'], dtype=object),\n",
       " array([b'5.6', b'3.0', b'4.5', b'1.5', b'Iris-versicolor'], dtype=object),\n",
       " array([b'5.6', b'2.5', b'3.9', b'1.1', b'Iris-versicolor'], dtype=object),\n",
       " array([b'5.6', b'3.0', b'4.1', b'1.3', b'Iris-versicolor'], dtype=object),\n",
       " array([b'5.6', b'2.7', b'4.2', b'1.3', b'Iris-versicolor'], dtype=object),\n",
       " array([b'5.6', b'2.8', b'4.9', b'2.0', b'Iris-virginica'], dtype=object),\n",
       " array([b'5.7', b'4.4', b'1.5', b'0.4', b'Iris-setosa'], dtype=object),\n",
       " array([b'5.7', b'3.8', b'1.7', b'0.3', b'Iris-setosa'], dtype=object),\n",
       " array([b'5.7', b'2.8', b'4.5', b'1.3', b'Iris-versicolor'], dtype=object),\n",
       " array([b'5.7', b'2.6', b'3.5', b'1.0', b'Iris-versicolor'], dtype=object),\n",
       " array([b'5.7', b'3.0', b'4.2', b'1.2', b'Iris-versicolor'], dtype=object),\n",
       " array([b'5.7', b'2.9', b'4.2', b'1.3', b'Iris-versicolor'], dtype=object),\n",
       " array([b'5.7', b'2.8', b'4.1', b'1.3', b'Iris-versicolor'], dtype=object),\n",
       " array([b'5.7', b'2.5', b'5.0', b'2.0', b'Iris-virginica'], dtype=object),\n",
       " array([b'5.8', b'4.0', b'1.2', b'0.2', b'Iris-setosa'], dtype=object),\n",
       " array([b'5.8', b'2.7', b'4.1', b'1.0', b'Iris-versicolor'], dtype=object),\n",
       " array([b'5.8', b'2.7', b'3.9', b'1.2', b'Iris-versicolor'], dtype=object),\n",
       " array([b'5.8', b'2.6', b'4.0', b'1.2', b'Iris-versicolor'], dtype=object),\n",
       " array([b'5.8', b'2.7', b'5.1', b'1.9', b'Iris-virginica'], dtype=object),\n",
       " array([b'5.8', b'2.8', b'5.1', b'2.4', b'Iris-virginica'], dtype=object),\n",
       " array([b'5.8', b'2.7', b'5.1', b'1.9', b'Iris-virginica'], dtype=object),\n",
       " array([b'5.9', b'3.0', b'4.2', b'1.5', b'Iris-versicolor'], dtype=object),\n",
       " array([b'5.9', b'3.2', b'4.8', b'1.8', b'Iris-versicolor'], dtype=object),\n",
       " array([b'5.9', b'3.0', b'5.1', b'1.8', b'Iris-virginica'], dtype=object),\n",
       " array([b'6.0', b'2.2', b'4.0', b'1.0', b'Iris-versicolor'], dtype=object),\n",
       " array([b'6.0', b'2.9', b'4.5', b'1.5', b'Iris-versicolor'], dtype=object),\n",
       " array([b'6.0', b'2.7', b'5.1', b'1.6', b'Iris-versicolor'], dtype=object),\n",
       " array([b'6.0', b'3.4', b'4.5', b'1.6', b'Iris-versicolor'], dtype=object),\n",
       " array([b'6.0', b'2.2', b'5.0', b'1.5', b'Iris-virginica'], dtype=object),\n",
       " array([b'6.0', b'3.0', b'4.8', b'1.8', b'Iris-virginica'], dtype=object),\n",
       " array([b'6.1', b'2.9', b'4.7', b'1.4', b'Iris-versicolor'], dtype=object),\n",
       " array([b'6.1', b'2.8', b'4.0', b'1.3', b'Iris-versicolor'], dtype=object),\n",
       " array([b'6.1', b'2.8', b'4.7', b'1.2', b'Iris-versicolor'], dtype=object),\n",
       " array([b'6.1', b'3.0', b'4.6', b'1.4', b'Iris-versicolor'], dtype=object),\n",
       " array([b'6.1', b'3.0', b'4.9', b'1.8', b'Iris-virginica'], dtype=object),\n",
       " array([b'6.1', b'2.6', b'5.6', b'1.4', b'Iris-virginica'], dtype=object),\n",
       " array([b'6.2', b'2.2', b'4.5', b'1.5', b'Iris-versicolor'], dtype=object),\n",
       " array([b'6.2', b'2.9', b'4.3', b'1.3', b'Iris-versicolor'], dtype=object),\n",
       " array([b'6.2', b'2.8', b'4.8', b'1.8', b'Iris-virginica'], dtype=object),\n",
       " array([b'6.2', b'3.4', b'5.4', b'2.3', b'Iris-virginica'], dtype=object),\n",
       " array([b'6.3', b'3.3', b'4.7', b'1.6', b'Iris-versicolor'], dtype=object),\n",
       " array([b'6.3', b'2.5', b'4.9', b'1.5', b'Iris-versicolor'], dtype=object),\n",
       " array([b'6.3', b'2.3', b'4.4', b'1.3', b'Iris-versicolor'], dtype=object),\n",
       " array([b'6.3', b'3.3', b'6.0', b'2.5', b'Iris-virginica'], dtype=object),\n",
       " array([b'6.3', b'2.9', b'5.6', b'1.8', b'Iris-virginica'], dtype=object),\n",
       " array([b'6.3', b'2.7', b'4.9', b'1.8', b'Iris-virginica'], dtype=object),\n",
       " array([b'6.3', b'2.8', b'5.1', b'1.5', b'Iris-virginica'], dtype=object),\n",
       " array([b'6.3', b'3.4', b'5.6', b'2.4', b'Iris-virginica'], dtype=object),\n",
       " array([b'6.3', b'2.5', b'5.0', b'1.9', b'Iris-virginica'], dtype=object),\n",
       " array([b'6.4', b'3.2', b'4.5', b'1.5', b'Iris-versicolor'], dtype=object),\n",
       " array([b'6.4', b'2.9', b'4.3', b'1.3', b'Iris-versicolor'], dtype=object),\n",
       " array([b'6.4', b'2.7', b'5.3', b'1.9', b'Iris-virginica'], dtype=object),\n",
       " array([b'6.4', b'3.2', b'5.3', b'2.3', b'Iris-virginica'], dtype=object),\n",
       " array([b'6.4', b'2.8', b'5.6', b'2.1', b'Iris-virginica'], dtype=object),\n",
       " array([b'6.4', b'2.8', b'5.6', b'2.2', b'Iris-virginica'], dtype=object),\n",
       " array([b'6.4', b'3.1', b'5.5', b'1.8', b'Iris-virginica'], dtype=object),\n",
       " array([b'6.5', b'2.8', b'4.6', b'1.5', b'Iris-versicolor'], dtype=object),\n",
       " array([b'6.5', b'3.0', b'5.8', b'2.2', b'Iris-virginica'], dtype=object),\n",
       " array([b'6.5', b'3.2', b'5.1', b'2.0', b'Iris-virginica'], dtype=object),\n",
       " array([b'6.5', b'3.0', b'5.5', b'1.8', b'Iris-virginica'], dtype=object),\n",
       " array([b'6.5', b'3.0', b'5.2', b'2.0', b'Iris-virginica'], dtype=object),\n",
       " array([b'6.6', b'2.9', b'4.6', b'1.3', b'Iris-versicolor'], dtype=object),\n",
       " array([b'6.6', b'3.0', b'4.4', b'1.4', b'Iris-versicolor'], dtype=object),\n",
       " array([b'6.7', b'3.1', b'4.4', b'1.4', b'Iris-versicolor'], dtype=object),\n",
       " array([b'6.7', b'3.0', b'5.0', b'1.7', b'Iris-versicolor'], dtype=object),\n",
       " array([b'6.7', b'3.1', b'4.7', b'1.5', b'Iris-versicolor'], dtype=object),\n",
       " array([b'6.7', b'2.5', b'5.8', b'1.8', b'Iris-virginica'], dtype=object),\n",
       " array([b'6.7', b'3.3', b'5.7', b'2.1', b'Iris-virginica'], dtype=object),\n",
       " array([b'6.7', b'3.1', b'5.6', b'2.4', b'Iris-virginica'], dtype=object),\n",
       " array([b'6.7', b'3.3', b'5.7', b'2.5', b'Iris-virginica'], dtype=object),\n",
       " array([b'6.7', b'3.0', b'5.2', b'2.3', b'Iris-virginica'], dtype=object),\n",
       " array([b'6.8', b'2.8', b'4.8', b'1.4', b'Iris-versicolor'], dtype=object),\n",
       " array([b'6.8', b'3.0', b'5.5', b'2.1', b'Iris-virginica'], dtype=object),\n",
       " array([b'6.8', b'3.2', b'5.9', b'2.3', b'Iris-virginica'], dtype=object),\n",
       " array([b'6.9', b'3.1', b'4.9', b'1.5', b'Iris-versicolor'], dtype=object),\n",
       " array([b'6.9', b'3.2', b'5.7', b'2.3', b'Iris-virginica'], dtype=object),\n",
       " array([b'6.9', b'3.1', b'5.4', b'2.1', b'Iris-virginica'], dtype=object),\n",
       " array([b'6.9', b'3.1', b'5.1', b'2.3', b'Iris-virginica'], dtype=object),\n",
       " array([b'7.0', b'3.2', b'4.7', b'1.4', b'Iris-versicolor'], dtype=object),\n",
       " array([b'7.1', b'3.0', b'5.9', b'2.1', b'Iris-virginica'], dtype=object),\n",
       " array([b'7.2', b'3.6', b'6.1', b'2.5', b'Iris-virginica'], dtype=object),\n",
       " array([b'7.2', b'3.2', b'6.0', b'1.8', b'Iris-virginica'], dtype=object),\n",
       " array([b'7.2', b'3.0', b'5.8', b'1.6', b'Iris-virginica'], dtype=object),\n",
       " array([b'7.3', b'2.9', b'6.3', b'1.8', b'Iris-virginica'], dtype=object),\n",
       " array([b'7.4', b'2.8', b'6.1', b'1.9', b'Iris-virginica'], dtype=object),\n",
       " array([b'7.6', b'3.0', b'6.6', b'2.1', b'Iris-virginica'], dtype=object),\n",
       " array([b'7.7', b'3.8', b'6.7', b'2.2', b'Iris-virginica'], dtype=object),\n",
       " array([b'7.7', b'2.6', b'6.9', b'2.3', b'Iris-virginica'], dtype=object),\n",
       " array([b'7.7', b'2.8', b'6.7', b'2.0', b'Iris-virginica'], dtype=object),\n",
       " array([b'7.7', b'3.0', b'6.1', b'2.3', b'Iris-virginica'], dtype=object),\n",
       " array([b'7.9', b'3.8', b'6.4', b'2.0', b'Iris-virginica'], dtype=object)]"
      ]
     },
     "execution_count": 58,
     "metadata": {},
     "output_type": "execute_result"
    }
   ],
   "source": [
    "# Entrada\n",
    "url = 'https://archive.ics.uci.edu/ml/machine-learning-databases/iris/iris.data'\n",
    "iris = np.genfromtxt(url, delimiter=',', dtype='object')\n",
    "nomes = ('sepallength', 'sepalwidth', 'petallength', 'petalwidth', 'species')\n",
    "\n",
    "#a funçao sorted ordena o dataset em ordem crescente pela coluna sepallength\n",
    "sorted(iris, key=lambda sepallength:sepallength[0])"
   ]
  },
  {
   "cell_type": "markdown",
   "metadata": {},
   "source": [
    "Exercício 24: Encontre o valor mais frequente da terceira coluna (petallength) do dataset iris."
   ]
  },
  {
   "cell_type": "code",
   "execution_count": 59,
   "metadata": {},
   "outputs": [
    {
     "name": "stdout",
     "output_type": "stream",
     "text": [
      "O valor mais frequente foi: b'1.5'\n"
     ]
    }
   ],
   "source": [
    "# Entrada\n",
    "url = 'https://archive.ics.uci.edu/ml/machine-learning-databases/iris/iris.data'\n",
    "iris = np.genfromtxt(url, delimiter=',', dtype='object')\n",
    "nomes = ('sepallength', 'sepalwidth', 'petallength', 'petalwidth', 'species')\n",
    "\n",
    "#faz a contagem dos valores da coluna\n",
    "unique,count = np.unique(iris[:,2],return_counts=True)\n",
    "\n",
    "#Converte em um dicinoario\n",
    "val = dict(zip(unique,count))\n",
    "\n",
    "#busca o maior numero de repeticação\n",
    "m_freq = max(val, key=val.get)\n",
    "print(\"O valor mais frequente foi:\", m_freq)"
   ]
  },
  {
   "cell_type": "markdown",
   "metadata": {},
   "source": [
    "Exercício 25: Encontre a posição da primeira ocorrência de um valor maior do que 1.0 da quarta coluna (petalwidth) do dataset iris."
   ]
  },
  {
   "cell_type": "code",
   "execution_count": 60,
   "metadata": {},
   "outputs": [
    {
     "data": {
      "text/plain": [
       "array([50], dtype=int64)"
      ]
     },
     "execution_count": 60,
     "metadata": {},
     "output_type": "execute_result"
    }
   ],
   "source": [
    "# Entrada\n",
    "url = 'https://archive.ics.uci.edu/ml/machine-learning-databases/iris/iris.data'\n",
    "iris = np.genfromtxt(url, delimiter=',', dtype='object')\n",
    "\n",
    "np.argwhere(iris[:,3].astype(float)>1.0)[0]"
   ]
  },
  {
   "cell_type": "markdown",
   "metadata": {},
   "source": [
    "Exercício 26: Obtenha a posição dos top 5 valores maíximos do vetor abaixo:"
   ]
  },
  {
   "cell_type": "code",
   "execution_count": 61,
   "metadata": {},
   "outputs": [
    {
     "data": {
      "text/plain": [
       "[48.95256545066111,\n",
       " 44.674775761300936,\n",
       " 42.39403048367528,\n",
       " 41.46678500014733,\n",
       " 40.99501268756616]"
      ]
     },
     "execution_count": 61,
     "metadata": {},
     "output_type": "execute_result"
    }
   ],
   "source": [
    "# Entrada\n",
    "np.random.seed(100)\n",
    "vetor = np.random.uniform(1,50, 20)\n",
    "\n",
    "vetor_ord = sorted(vetor, reverse=True)\n",
    "vetor_ord[:5]"
   ]
  },
  {
   "cell_type": "markdown",
   "metadata": {},
   "source": [
    "Exercício 27: Encontre a média de uma coluna numérica agrupada por uma coluna categórica em uma matriz (vetor numpy 2D)"
   ]
  },
  {
   "cell_type": "code",
   "execution_count": 62,
   "metadata": {},
   "outputs": [
    {
     "name": "stdout",
     "output_type": "stream",
     "text": [
      "b'Iris-setosa' 3.418\n",
      "b'Iris-versicolor' 2.770\n",
      "b'Iris-virginica' 2.974\n"
     ]
    }
   ],
   "source": [
    "# Entrada\n",
    "url = 'https://archive.ics.uci.edu/ml/machine-learning-databases/iris/iris.data'\n",
    "iris = np.genfromtxt(url, delimiter=',', dtype='object')\n",
    "names = ('sepallength', 'sepalwidth', 'petallength', 'petalwidth', 'species')\n",
    "\n",
    "# Saída Esperada\n",
    "#>  [[b'Iris-setosa', 3.418],\n",
    "#>  [b'Iris-versicolor', 2.770],\n",
    "#>  [b'Iris-virginica', 2.974]]\n",
    "\n",
    "\n",
    "categoria = np.unique(iris[:,4])\n",
    "i = 0\n",
    "\n",
    "for x in categoria:\n",
    "    categ = iris[iris[:,4]== x]\n",
    "    print(categoria[i], \"{:.3f}\".format(np.mean(categ[:,1].astype(float))))\n",
    "    i+=1"
   ]
  },
  {
   "cell_type": "code",
   "execution_count": null,
   "metadata": {},
   "outputs": [],
   "source": []
  }
 ],
 "metadata": {
  "kernelspec": {
   "display_name": "Python 3",
   "language": "python",
   "name": "python3"
  },
  "language_info": {
   "codemirror_mode": {
    "name": "ipython",
    "version": 3
   },
   "file_extension": ".py",
   "mimetype": "text/x-python",
   "name": "python",
   "nbconvert_exporter": "python",
   "pygments_lexer": "ipython3",
   "version": "3.7.3"
  }
 },
 "nbformat": 4,
 "nbformat_minor": 2
}
